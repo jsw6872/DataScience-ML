{
 "cells": [
  {
   "cell_type": "markdown",
   "metadata": {},
   "source": [
    "# 3/31 목 실시간"
   ]
  },
  {
   "cell_type": "markdown",
   "metadata": {},
   "source": [
    "## logistic regression\n",
    "종속 변수가 범주형 데이터를 대상으로 하며 입력 데이터가 주어졌을 때 해당 데이터의 결과가 특정 분류로 나뉘기 때문에 일종의 분류 (classification) 기법"
   ]
  },
  {
   "cell_type": "code",
   "execution_count": 9,
   "metadata": {},
   "outputs": [],
   "source": [
    "import pandas as pd\n",
    "import matplotlib.pyplot as plt\n",
    "import numpy as np"
   ]
  },
  {
   "cell_type": "code",
   "execution_count": 42,
   "metadata": {},
   "outputs": [
    {
     "data": {
      "text/html": [
       "<div>\n",
       "<style scoped>\n",
       "    .dataframe tbody tr th:only-of-type {\n",
       "        vertical-align: middle;\n",
       "    }\n",
       "\n",
       "    .dataframe tbody tr th {\n",
       "        vertical-align: top;\n",
       "    }\n",
       "\n",
       "    .dataframe thead th {\n",
       "        text-align: right;\n",
       "    }\n",
       "</style>\n",
       "<table border=\"1\" class=\"dataframe\">\n",
       "  <thead>\n",
       "    <tr style=\"text-align: right;\">\n",
       "      <th></th>\n",
       "      <th>X1</th>\n",
       "      <th>X2</th>\n",
       "      <th>y</th>\n",
       "    </tr>\n",
       "  </thead>\n",
       "  <tbody>\n",
       "    <tr>\n",
       "      <th>0</th>\n",
       "      <td>-2.056844</td>\n",
       "      <td>-0.752741</td>\n",
       "      <td>0</td>\n",
       "    </tr>\n",
       "    <tr>\n",
       "      <th>1</th>\n",
       "      <td>1.760238</td>\n",
       "      <td>1.558517</td>\n",
       "      <td>1</td>\n",
       "    </tr>\n",
       "    <tr>\n",
       "      <th>2</th>\n",
       "      <td>-0.447763</td>\n",
       "      <td>-1.554927</td>\n",
       "      <td>1</td>\n",
       "    </tr>\n",
       "    <tr>\n",
       "      <th>3</th>\n",
       "      <td>1.008459</td>\n",
       "      <td>0.529517</td>\n",
       "      <td>1</td>\n",
       "    </tr>\n",
       "    <tr>\n",
       "      <th>4</th>\n",
       "      <td>0.636547</td>\n",
       "      <td>0.409058</td>\n",
       "      <td>1</td>\n",
       "    </tr>\n",
       "    <tr>\n",
       "      <th>...</th>\n",
       "      <td>...</td>\n",
       "      <td>...</td>\n",
       "      <td>...</td>\n",
       "    </tr>\n",
       "    <tr>\n",
       "      <th>95</th>\n",
       "      <td>-0.129932</td>\n",
       "      <td>-0.797169</td>\n",
       "      <td>0</td>\n",
       "    </tr>\n",
       "    <tr>\n",
       "      <th>96</th>\n",
       "      <td>1.426902</td>\n",
       "      <td>1.244639</td>\n",
       "      <td>1</td>\n",
       "    </tr>\n",
       "    <tr>\n",
       "      <th>97</th>\n",
       "      <td>-0.582968</td>\n",
       "      <td>1.630750</td>\n",
       "      <td>1</td>\n",
       "    </tr>\n",
       "    <tr>\n",
       "      <th>98</th>\n",
       "      <td>-0.619720</td>\n",
       "      <td>1.630840</td>\n",
       "      <td>0</td>\n",
       "    </tr>\n",
       "    <tr>\n",
       "      <th>99</th>\n",
       "      <td>1.938929</td>\n",
       "      <td>0.069963</td>\n",
       "      <td>1</td>\n",
       "    </tr>\n",
       "  </tbody>\n",
       "</table>\n",
       "<p>100 rows × 3 columns</p>\n",
       "</div>"
      ],
      "text/plain": [
       "          X1        X2  y\n",
       "0  -2.056844 -0.752741  0\n",
       "1   1.760238  1.558517  1\n",
       "2  -0.447763 -1.554927  1\n",
       "3   1.008459  0.529517  1\n",
       "4   0.636547  0.409058  1\n",
       "..       ...       ... ..\n",
       "95 -0.129932 -0.797169  0\n",
       "96  1.426902  1.244639  1\n",
       "97 -0.582968  1.630750  1\n",
       "98 -0.619720  1.630840  0\n",
       "99  1.938929  0.069963  1\n",
       "\n",
       "[100 rows x 3 columns]"
      ]
     },
     "execution_count": 42,
     "metadata": {},
     "output_type": "execute_result"
    }
   ],
   "source": [
    "df=pd.read_csv('https://raw.githubusercontent.com/ralbu85/DataScience_2022S/master/data/classification_data.csv')\n",
    "df"
   ]
  },
  {
   "cell_type": "markdown",
   "metadata": {},
   "source": [
    "## "
   ]
  },
  {
   "cell_type": "markdown",
   "metadata": {},
   "source": [
    "### 2차원 평면에 그리기"
   ]
  },
  {
   "cell_type": "code",
   "execution_count": 6,
   "metadata": {},
   "outputs": [
    {
     "data": {
      "text/plain": [
       "<matplotlib.collections.PathCollection at 0x7f7ab6bf7490>"
      ]
     },
     "execution_count": 6,
     "metadata": {},
     "output_type": "execute_result"
    },
    {
     "data": {
      "image/png": "[encoded data removed]",
      "text/plain": [
       "<Figure size 432x288 with 1 Axes>"
      ]
     },
     "metadata": {
      "needs_background": "light"
     },
     "output_type": "display_data"
    }
   ],
   "source": [
    "plt.scatter(df['X1'],df['X2']) # x1 값 x축, x2 값 y축"
   ]
  },
  {
   "cell_type": "code",
   "execution_count": 8,
   "metadata": {},
   "outputs": [
    {
     "data": {
      "text/plain": [
       "<matplotlib.collections.PathCollection at 0x7f7ab6cda370>"
      ]
     },
     "execution_count": 8,
     "metadata": {},
     "output_type": "execute_result"
    },
    {
     "data": {
      "image/png": "[encoded data removed]",
      "text/plain": [
       "<Figure size 432x288 with 1 Axes>"
      ]
     },
     "metadata": {
      "needs_background": "light"
     },
     "output_type": "display_data"
    }
   ],
   "source": [
    "plt.scatter(df['X1'],df['X2'], c = df['y']) # y의 값에 따라 색이 구분"
   ]
  },
  {
   "cell_type": "markdown",
   "metadata": {},
   "source": [
    "### 로지스틱 함수"
   ]
  },
  {
   "cell_type": "code",
   "execution_count": 12,
   "metadata": {},
   "outputs": [
    {
     "data": {
      "text/plain": [
       "array([-10.        ,  -9.7979798 ,  -9.5959596 ,  -9.39393939,\n",
       "        -9.19191919,  -8.98989899,  -8.78787879,  -8.58585859,\n",
       "        -8.38383838,  -8.18181818,  -7.97979798,  -7.77777778,\n",
       "        -7.57575758,  -7.37373737,  -7.17171717,  -6.96969697,\n",
       "        -6.76767677,  -6.56565657,  -6.36363636,  -6.16161616,\n",
       "        -5.95959596,  -5.75757576,  -5.55555556,  -5.35353535,\n",
       "        -5.15151515,  -4.94949495,  -4.74747475,  -4.54545455,\n",
       "        -4.34343434,  -4.14141414,  -3.93939394,  -3.73737374,\n",
       "        -3.53535354,  -3.33333333,  -3.13131313,  -2.92929293,\n",
       "        -2.72727273,  -2.52525253,  -2.32323232,  -2.12121212,\n",
       "        -1.91919192,  -1.71717172,  -1.51515152,  -1.31313131,\n",
       "        -1.11111111,  -0.90909091,  -0.70707071,  -0.50505051,\n",
       "        -0.3030303 ,  -0.1010101 ,   0.1010101 ,   0.3030303 ,\n",
       "         0.50505051,   0.70707071,   0.90909091,   1.11111111,\n",
       "         1.31313131,   1.51515152,   1.71717172,   1.91919192,\n",
       "         2.12121212,   2.32323232,   2.52525253,   2.72727273,\n",
       "         2.92929293,   3.13131313,   3.33333333,   3.53535354,\n",
       "         3.73737374,   3.93939394,   4.14141414,   4.34343434,\n",
       "         4.54545455,   4.74747475,   4.94949495,   5.15151515,\n",
       "         5.35353535,   5.55555556,   5.75757576,   5.95959596,\n",
       "         6.16161616,   6.36363636,   6.56565657,   6.76767677,\n",
       "         6.96969697,   7.17171717,   7.37373737,   7.57575758,\n",
       "         7.77777778,   7.97979798,   8.18181818,   8.38383838,\n",
       "         8.58585859,   8.78787879,   8.98989899,   9.19191919,\n",
       "         9.39393939,   9.5959596 ,   9.7979798 ,  10.        ])"
      ]
     },
     "execution_count": 12,
     "metadata": {},
     "output_type": "execute_result"
    }
   ],
   "source": [
    "z = np.linspace(-10, 10, 100) # -10부터 10까지 100등분\n",
    "z"
   ]
  },
  {
   "cell_type": "code",
   "execution_count": 17,
   "metadata": {},
   "outputs": [],
   "source": [
    "# 로지스틱 모형\n",
    "def sigmoid(x):\n",
    "    return 1/(1+np.exp(-1*x))"
   ]
  },
  {
   "cell_type": "code",
   "execution_count": 16,
   "metadata": {},
   "outputs": [
    {
     "data": {
      "text/plain": [
       "[<matplotlib.lines.Line2D at 0x7f7ab6e641f0>]"
      ]
     },
     "execution_count": 16,
     "metadata": {},
     "output_type": "execute_result"
    },
    {
     "data": {
      "image/png": "[encoded data removed]",
      "text/plain": [
       "<Figure size 432x288 with 1 Axes>"
      ]
     },
     "metadata": {
      "needs_background": "light"
     },
     "output_type": "display_data"
    }
   ],
   "source": [
    "plt.plot(z,sigmoid(z))"
   ]
  },
  {
   "cell_type": "markdown",
   "metadata": {},
   "source": [
    "### 로지스틱회귀 학습"
   ]
  },
  {
   "cell_type": "code",
   "execution_count": 19,
   "metadata": {},
   "outputs": [],
   "source": [
    "from sklearn.linear_model import LogisticRegression"
   ]
  },
  {
   "cell_type": "code",
   "execution_count": 20,
   "metadata": {},
   "outputs": [],
   "source": [
    "# 학습할 객체 생성\n",
    "reg = LogisticRegression()"
   ]
  },
  {
   "cell_type": "code",
   "execution_count": 45,
   "metadata": {},
   "outputs": [],
   "source": [
    "# 데이터 분할\n",
    "X = df[['X1','X2']]\n",
    "y = df['y']"
   ]
  },
  {
   "cell_type": "code",
   "execution_count": 24,
   "metadata": {},
   "outputs": [
    {
     "data": {
      "text/plain": [
       "LogisticRegression()"
      ]
     },
     "execution_count": 24,
     "metadata": {},
     "output_type": "execute_result"
    }
   ],
   "source": [
    "# 학습\n",
    "reg.fit(X,y)"
   ]
  },
  {
   "cell_type": "markdown",
   "metadata": {},
   "source": [
    "### 학습결과"
   ]
  },
  {
   "cell_type": "code",
   "execution_count": 28,
   "metadata": {},
   "outputs": [
    {
     "data": {
      "text/plain": [
       "array([[ 2.43054461, -0.36712609]])"
      ]
     },
     "execution_count": 28,
     "metadata": {},
     "output_type": "execute_result"
    }
   ],
   "source": [
    "reg.coef_ # 학습된 X1값, X2 상관계수"
   ]
  },
  {
   "cell_type": "code",
   "execution_count": 29,
   "metadata": {},
   "outputs": [
    {
     "data": {
      "text/plain": [
       "array([0.10689852])"
      ]
     },
     "execution_count": 29,
     "metadata": {},
     "output_type": "execute_result"
    }
   ],
   "source": [
    "reg.intercept_ # 학습된 계수"
   ]
  },
  {
   "cell_type": "code",
   "execution_count": 31,
   "metadata": {},
   "outputs": [
    {
     "data": {
      "text/plain": [
       "array([[9.90204636e-01, 9.79536428e-03],\n",
       "       [2.16034429e-02, 9.78396557e-01],\n",
       "       [6.01220904e-01, 3.98779096e-01],\n",
       "       [8.59905428e-02, 9.14009457e-01],\n",
       "       [1.81847933e-01, 8.18152067e-01],\n",
       "       [2.31471531e-02, 9.76852847e-01],\n",
       "       [8.01536679e-02, 9.19846332e-01],\n",
       "       [5.28638688e-03, 9.94713613e-01],\n",
       "       [9.77531302e-01, 2.24686977e-02],\n",
       "       [3.84792683e-01, 6.15207317e-01],\n",
       "       [9.41969580e-01, 5.80304202e-02],\n",
       "       [7.59873010e-02, 9.24012699e-01],\n",
       "       [9.65035530e-01, 3.49644700e-02],\n",
       "       [6.63214901e-01, 3.36785099e-01],\n",
       "       [8.71347465e-01, 1.28652535e-01],\n",
       "       [4.27442195e-03, 9.95725578e-01],\n",
       "       [5.57538943e-01, 4.42461057e-01],\n",
       "       [5.86839648e-03, 9.94131604e-01],\n",
       "       [1.10591010e-01, 8.89408990e-01],\n",
       "       [3.84522870e-01, 6.15477130e-01],\n",
       "       [1.42199788e-01, 8.57800212e-01],\n",
       "       [9.36857280e-01, 6.31427205e-02],\n",
       "       [9.96690025e-01, 3.30997536e-03],\n",
       "       [2.83124745e-02, 9.71687526e-01],\n",
       "       [5.81466375e-01, 4.18533625e-01],\n",
       "       [5.49300333e-01, 4.50699667e-01],\n",
       "       [2.35347697e-01, 7.64652303e-01],\n",
       "       [9.63257322e-01, 3.67426783e-02],\n",
       "       [1.48297479e-01, 8.51702521e-01],\n",
       "       [9.43901517e-01, 5.60984835e-02],\n",
       "       [2.51542470e-02, 9.74845753e-01],\n",
       "       [6.84856451e-01, 3.15143549e-01],\n",
       "       [1.64613976e-02, 9.83538602e-01],\n",
       "       [3.20704288e-02, 9.67929571e-01],\n",
       "       [7.75701085e-01, 2.24298915e-01],\n",
       "       [8.99364358e-03, 9.91006356e-01],\n",
       "       [4.20755574e-01, 5.79244426e-01],\n",
       "       [6.40657173e-02, 9.35934283e-01],\n",
       "       [7.08479800e-01, 2.91520200e-01],\n",
       "       [2.95725966e-01, 7.04274034e-01],\n",
       "       [1.68645779e-02, 9.83135422e-01],\n",
       "       [8.72297006e-01, 1.27702994e-01],\n",
       "       [1.27414503e-04, 9.99872585e-01],\n",
       "       [7.67219970e-01, 2.32780030e-01],\n",
       "       [9.71550901e-01, 2.84490994e-02],\n",
       "       [8.89030268e-01, 1.10969732e-01],\n",
       "       [3.10913634e-02, 9.68908637e-01],\n",
       "       [5.41376406e-01, 4.58623594e-01],\n",
       "       [8.54072645e-01, 1.45927355e-01],\n",
       "       [7.67963540e-01, 2.32036460e-01],\n",
       "       [2.44073906e-01, 7.55926094e-01],\n",
       "       [4.54055709e-02, 9.54594429e-01],\n",
       "       [2.85402032e-01, 7.14597968e-01],\n",
       "       [9.87366099e-01, 1.26339007e-02],\n",
       "       [8.69786200e-01, 1.30213800e-01],\n",
       "       [1.25979977e-01, 8.74020023e-01],\n",
       "       [7.99734364e-01, 2.00265636e-01],\n",
       "       [2.40158272e-01, 7.59841728e-01],\n",
       "       [6.24385703e-02, 9.37561430e-01],\n",
       "       [9.34851636e-01, 6.51483638e-02],\n",
       "       [8.43716374e-01, 1.56283626e-01],\n",
       "       [8.19414274e-01, 1.80585726e-01],\n",
       "       [9.59700344e-01, 4.02996557e-02],\n",
       "       [9.67068057e-01, 3.29319433e-02],\n",
       "       [4.00019801e-01, 5.99980199e-01],\n",
       "       [7.48314694e-01, 2.51685306e-01],\n",
       "       [7.65151587e-01, 2.34848413e-01],\n",
       "       [9.80124924e-01, 1.98750760e-02],\n",
       "       [9.76197748e-01, 2.38022523e-02],\n",
       "       [9.92627294e-01, 7.37270596e-03],\n",
       "       [3.72262937e-01, 6.27737063e-01],\n",
       "       [8.71935660e-03, 9.91280643e-01],\n",
       "       [3.33455501e-02, 9.66654450e-01],\n",
       "       [3.09880297e-02, 9.69011970e-01],\n",
       "       [7.79231231e-01, 2.20768769e-01],\n",
       "       [4.17399064e-01, 5.82600936e-01],\n",
       "       [9.96228630e-01, 3.77136980e-03],\n",
       "       [8.74500963e-01, 1.25499037e-01],\n",
       "       [9.99246282e-01, 7.53718197e-04],\n",
       "       [2.79139414e-02, 9.72086059e-01],\n",
       "       [1.20515075e-01, 8.79484925e-01],\n",
       "       [9.73792082e-01, 2.62079180e-02],\n",
       "       [9.24077849e-01, 7.59221512e-02],\n",
       "       [5.38410022e-02, 9.46158998e-01],\n",
       "       [2.03679121e-02, 9.79632088e-01],\n",
       "       [5.00724288e-03, 9.94992757e-01],\n",
       "       [9.66613956e-01, 3.33860443e-02],\n",
       "       [9.68288895e-01, 3.17111055e-02],\n",
       "       [9.96978295e-01, 3.02170457e-03],\n",
       "       [9.50433106e-01, 4.95668938e-02],\n",
       "       [8.55306394e-01, 1.44693606e-01],\n",
       "       [3.96735909e-03, 9.96032641e-01],\n",
       "       [1.42095832e-02, 9.85790417e-01],\n",
       "       [9.95934647e-01, 4.06535256e-03],\n",
       "       [8.05615126e-02, 9.19438487e-01],\n",
       "       [4.79073343e-01, 5.20926657e-01],\n",
       "       [4.23664265e-02, 9.57633574e-01],\n",
       "       [8.70875520e-01, 1.29124480e-01],\n",
       "       [8.80595504e-01, 1.19404496e-01],\n",
       "       [8.21238115e-03, 9.91787619e-01]])"
      ]
     },
     "execution_count": 31,
     "metadata": {},
     "output_type": "execute_result"
    }
   ],
   "source": [
    "# 0, 1로 분류될 각각의 확률 예측 ( 범주형 데이터 )\n",
    "reg.predict_proba(X) # 기존 학습된 데이터를 다시 넣어서 1로 분류될 확률을 예측"
   ]
  },
  {
   "cell_type": "code",
   "execution_count": 33,
   "metadata": {},
   "outputs": [
    {
     "data": {
      "text/plain": [
       "array([9.79536428e-03, 9.78396557e-01, 3.98779096e-01, 9.14009457e-01,\n",
       "       8.18152067e-01, 9.76852847e-01, 9.19846332e-01, 9.94713613e-01,\n",
       "       2.24686977e-02, 6.15207317e-01, 5.80304202e-02, 9.24012699e-01,\n",
       "       3.49644700e-02, 3.36785099e-01, 1.28652535e-01, 9.95725578e-01,\n",
       "       4.42461057e-01, 9.94131604e-01, 8.89408990e-01, 6.15477130e-01,\n",
       "       8.57800212e-01, 6.31427205e-02, 3.30997536e-03, 9.71687526e-01,\n",
       "       4.18533625e-01, 4.50699667e-01, 7.64652303e-01, 3.67426783e-02,\n",
       "       8.51702521e-01, 5.60984835e-02, 9.74845753e-01, 3.15143549e-01,\n",
       "       9.83538602e-01, 9.67929571e-01, 2.24298915e-01, 9.91006356e-01,\n",
       "       5.79244426e-01, 9.35934283e-01, 2.91520200e-01, 7.04274034e-01,\n",
       "       9.83135422e-01, 1.27702994e-01, 9.99872585e-01, 2.32780030e-01,\n",
       "       2.84490994e-02, 1.10969732e-01, 9.68908637e-01, 4.58623594e-01,\n",
       "       1.45927355e-01, 2.32036460e-01, 7.55926094e-01, 9.54594429e-01,\n",
       "       7.14597968e-01, 1.26339007e-02, 1.30213800e-01, 8.74020023e-01,\n",
       "       2.00265636e-01, 7.59841728e-01, 9.37561430e-01, 6.51483638e-02,\n",
       "       1.56283626e-01, 1.80585726e-01, 4.02996557e-02, 3.29319433e-02,\n",
       "       5.99980199e-01, 2.51685306e-01, 2.34848413e-01, 1.98750760e-02,\n",
       "       2.38022523e-02, 7.37270596e-03, 6.27737063e-01, 9.91280643e-01,\n",
       "       9.66654450e-01, 9.69011970e-01, 2.20768769e-01, 5.82600936e-01,\n",
       "       3.77136980e-03, 1.25499037e-01, 7.53718197e-04, 9.72086059e-01,\n",
       "       8.79484925e-01, 2.62079180e-02, 7.59221512e-02, 9.46158998e-01,\n",
       "       9.79632088e-01, 9.94992757e-01, 3.33860443e-02, 3.17111055e-02,\n",
       "       3.02170457e-03, 4.95668938e-02, 1.44693606e-01, 9.96032641e-01,\n",
       "       9.85790417e-01, 4.06535256e-03, 9.19438487e-01, 5.20926657e-01,\n",
       "       9.57633574e-01, 1.29124480e-01, 1.19404496e-01, 9.91787619e-01])"
      ]
     },
     "execution_count": 33,
     "metadata": {},
     "output_type": "execute_result"
    }
   ],
   "source": [
    "# 1로 분류될 확률\n",
    "reg.predict_proba(X)[:,1] # 행은 다 뽑고 열에서 두 번쨰 값"
   ]
  },
  {
   "cell_type": "markdown",
   "metadata": {},
   "source": [
    "### 직접 식을 계산한 값과 sklearn을 통해 학습한 값 비교"
   ]
  },
  {
   "cell_type": "code",
   "execution_count": 37,
   "metadata": {},
   "outputs": [
    {
     "data": {
      "text/plain": [
       "array([[9.79536428e-03],\n",
       "       [9.78396557e-01],\n",
       "       [3.98779096e-01],\n",
       "       [9.14009457e-01],\n",
       "       [8.18152067e-01],\n",
       "       [9.76852847e-01],\n",
       "       [9.19846332e-01],\n",
       "       [9.94713613e-01],\n",
       "       [2.24686977e-02],\n",
       "       [6.15207317e-01],\n",
       "       [5.80304202e-02],\n",
       "       [9.24012699e-01],\n",
       "       [3.49644700e-02],\n",
       "       [3.36785099e-01],\n",
       "       [1.28652535e-01],\n",
       "       [9.95725578e-01],\n",
       "       [4.42461057e-01],\n",
       "       [9.94131604e-01],\n",
       "       [8.89408990e-01],\n",
       "       [6.15477130e-01],\n",
       "       [8.57800212e-01],\n",
       "       [6.31427205e-02],\n",
       "       [3.30997536e-03],\n",
       "       [9.71687526e-01],\n",
       "       [4.18533625e-01],\n",
       "       [4.50699667e-01],\n",
       "       [7.64652303e-01],\n",
       "       [3.67426783e-02],\n",
       "       [8.51702521e-01],\n",
       "       [5.60984835e-02],\n",
       "       [9.74845753e-01],\n",
       "       [3.15143549e-01],\n",
       "       [9.83538602e-01],\n",
       "       [9.67929571e-01],\n",
       "       [2.24298915e-01],\n",
       "       [9.91006356e-01],\n",
       "       [5.79244426e-01],\n",
       "       [9.35934283e-01],\n",
       "       [2.91520200e-01],\n",
       "       [7.04274034e-01],\n",
       "       [9.83135422e-01],\n",
       "       [1.27702994e-01],\n",
       "       [9.99872585e-01],\n",
       "       [2.32780030e-01],\n",
       "       [2.84490994e-02],\n",
       "       [1.10969732e-01],\n",
       "       [9.68908637e-01],\n",
       "       [4.58623594e-01],\n",
       "       [1.45927355e-01],\n",
       "       [2.32036460e-01],\n",
       "       [7.55926094e-01],\n",
       "       [9.54594429e-01],\n",
       "       [7.14597968e-01],\n",
       "       [1.26339007e-02],\n",
       "       [1.30213800e-01],\n",
       "       [8.74020023e-01],\n",
       "       [2.00265636e-01],\n",
       "       [7.59841728e-01],\n",
       "       [9.37561430e-01],\n",
       "       [6.51483638e-02],\n",
       "       [1.56283626e-01],\n",
       "       [1.80585726e-01],\n",
       "       [4.02996557e-02],\n",
       "       [3.29319433e-02],\n",
       "       [5.99980199e-01],\n",
       "       [2.51685306e-01],\n",
       "       [2.34848413e-01],\n",
       "       [1.98750760e-02],\n",
       "       [2.38022523e-02],\n",
       "       [7.37270596e-03],\n",
       "       [6.27737063e-01],\n",
       "       [9.91280643e-01],\n",
       "       [9.66654450e-01],\n",
       "       [9.69011970e-01],\n",
       "       [2.20768769e-01],\n",
       "       [5.82600936e-01],\n",
       "       [3.77136980e-03],\n",
       "       [1.25499037e-01],\n",
       "       [7.53718197e-04],\n",
       "       [9.72086059e-01],\n",
       "       [8.79484925e-01],\n",
       "       [2.62079180e-02],\n",
       "       [7.59221512e-02],\n",
       "       [9.46158998e-01],\n",
       "       [9.79632088e-01],\n",
       "       [9.94992757e-01],\n",
       "       [3.33860443e-02],\n",
       "       [3.17111055e-02],\n",
       "       [3.02170457e-03],\n",
       "       [4.95668938e-02],\n",
       "       [1.44693606e-01],\n",
       "       [9.96032641e-01],\n",
       "       [9.85790417e-01],\n",
       "       [4.06535256e-03],\n",
       "       [9.19438487e-01],\n",
       "       [5.20926657e-01],\n",
       "       [9.57633574e-01],\n",
       "       [1.29124480e-01],\n",
       "       [1.19404496e-01],\n",
       "       [9.91787619e-01]])"
      ]
     },
     "execution_count": 37,
     "metadata": {},
     "output_type": "execute_result"
    }
   ],
   "source": [
    "W = reg.coef_\n",
    "b = reg.intercept_\n",
    "sigmoid(np.dot(X, W.T)+b) #== reg.predict_proba(X)[:,1]"
   ]
  },
  {
   "cell_type": "markdown",
   "metadata": {},
   "source": [
    "### 분류 결과 예측"
   ]
  },
  {
   "cell_type": "code",
   "execution_count": 39,
   "metadata": {},
   "outputs": [
    {
     "data": {
      "text/plain": [
       "array([0, 1, 0, 1, 1, 1, 1, 1, 0, 1, 0, 1, 0, 0, 0, 1, 0, 1, 1, 1, 1, 0,\n",
       "       0, 1, 0, 0, 1, 0, 1, 0, 1, 0, 1, 1, 0, 1, 1, 1, 0, 1, 1, 0, 1, 0,\n",
       "       0, 0, 1, 0, 0, 0, 1, 1, 1, 0, 0, 1, 0, 1, 1, 0, 0, 0, 0, 0, 1, 0,\n",
       "       0, 0, 0, 0, 1, 1, 1, 1, 0, 1, 0, 0, 0, 1, 1, 0, 0, 1, 1, 1, 0, 0,\n",
       "       0, 0, 0, 1, 1, 0, 1, 1, 1, 0, 0, 1])"
      ]
     },
     "execution_count": 39,
     "metadata": {},
     "output_type": "execute_result"
    }
   ],
   "source": [
    "# 학습된 로지스틱회귀가 예측한 결과값\n",
    "y_predict = reg.predict(X)\n",
    "y_predict"
   ]
  },
  {
   "cell_type": "code",
   "execution_count": 47,
   "metadata": {},
   "outputs": [
    {
     "data": {
      "text/plain": [
       "89"
      ]
     },
     "execution_count": 47,
     "metadata": {},
     "output_type": "execute_result"
    }
   ],
   "source": [
    "# T 는 1 , F는 0으로 간주하고 T의 합을 구한다\n",
    "np.sum(y == y_predict)"
   ]
  },
  {
   "cell_type": "markdown",
   "metadata": {},
   "source": [
    "### 의사결정 경계선\n",
    "$ h(x) = w_0 + w_1x_1 + w_2x_2  0 = w_0 + w_1x_1 + w_2x_2x_2 = -w_0 + w_1x_1 / w_2 $"
   ]
  },
  {
   "cell_type": "code",
   "execution_count": 52,
   "metadata": {},
   "outputs": [
    {
     "data": {
      "text/plain": [
       "2.430544605946542"
      ]
     },
     "execution_count": 52,
     "metadata": {},
     "output_type": "execute_result"
    }
   ],
   "source": [
    "W[0,0]"
   ]
  },
  {
   "cell_type": "markdown",
   "metadata": {},
   "source": [
    "## 타이타닉 생존예측"
   ]
  },
  {
   "cell_type": "markdown",
   "metadata": {},
   "source": []
  }
 ],
 "metadata": {
  "interpreter": {
   "hash": "451282c7329e2a6a364ca3aa9d61cbc27edaeb5d17f404c45e9cca05e3b54b52"
  },
  "kernelspec": {
   "display_name": "Python 3.8.12 ('da')",
   "language": "python",
   "name": "python3"
  },
  "language_info": {
   "codemirror_mode": {
    "name": "ipython",
    "version": 3
   },
   "file_extension": ".py",
   "mimetype": "text/x-python",
   "name": "python",
   "nbconvert_exporter": "python",
   "pygments_lexer": "ipython3",
   "version": "3.8.12"
  },
  "orig_nbformat": 4
 },
 "nbformat": 4,
 "nbformat_minor": 2
}
