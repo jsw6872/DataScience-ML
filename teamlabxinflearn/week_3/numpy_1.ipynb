{
 "cells": [
  {
   "cell_type": "markdown",
   "metadata": {},
   "source": [
    "## numpy 특징\n",
    "- `list`와 달리 0~256 사이의 숫자라도 static하게 메모리를 할당하는 것이 아니기때문에 `is` 비교를 하면 `False`가 나온다"
   ]
  },
  {
   "cell_type": "markdown",
   "metadata": {},
   "source": [
    "### Array nbytes\n",
    "- 8bits = 1bytes\n",
    "  - ex) 데이터 개수가 6이고 dtype = np.float64 라면 nbytes 는 6*8"
   ]
  },
  {
   "cell_type": "markdown",
   "metadata": {},
   "source": [
    "### reshape"
   ]
  },
  {
   "cell_type": "markdown",
   "metadata": {},
   "source": [
    "![reshape](../img/reshape.png)"
   ]
  }
 ],
 "metadata": {
  "interpreter": {
   "hash": "451282c7329e2a6a364ca3aa9d61cbc27edaeb5d17f404c45e9cca05e3b54b52"
  },
  "kernelspec": {
   "display_name": "Python 3.8.12 ('da')",
   "language": "python",
   "name": "python3"
  },
  "language_info": {
   "name": "python",
   "version": "3.8.12"
  },
  "orig_nbformat": 4
 },
 "nbformat": 4,
 "nbformat_minor": 2
}
