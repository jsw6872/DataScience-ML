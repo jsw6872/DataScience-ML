{
 "cells": [
  {
   "cell_type": "markdown",
   "metadata": {},
   "source": [
    "# logistic regression"
   ]
  },
  {
   "cell_type": "markdown",
   "metadata": {},
   "source": [
    "### 분류의 문제에서 linear regression의 문제점\n",
    "- 1 이상 or 0 이하의 수들이 나오는 경우에는 어떻게 해석?\n",
    "- 확률로 발생할 사건의 가능성을 표현해야 함\n"
   ]
  },
  {
   "cell_type": "markdown",
   "metadata": {},
   "source": [
    "> 0~1 사이의 확률로 표현해야함 "
   ]
  },
  {
   "cell_type": "markdown",
   "metadata": {},
   "source": [
    "## logit function"
   ]
  },
  {
   "cell_type": "markdown",
   "metadata": {},
   "source": [
    "![logit_function](https://github.com/ppurify/ML/raw/289f0980c4648c277fa1f3d2b0307cbf7ff46a30/TIL/LogisticRegrssion/img/logit.PNG)\n",
    "- input이 아닌 Output값이 확률이 되기 위해 역함수를 취해줌 (sigmoid fuction)"
   ]
  },
  {
   "cell_type": "markdown",
   "metadata": {},
   "source": [
    "> $p = \\sigma(z) = \\frac {1}{1+e^{-z}}$  \n",
    "> z값을 찾는 것이 목적인데 이 때 z는 선형결합으로 이루어짐"
   ]
  },
  {
   "cell_type": "markdown",
   "metadata": {},
   "source": [
    "## Logistic Regression에서 Weight 학습하기"
   ]
  },
  {
   "cell_type": "markdown",
   "metadata": {},
   "source": [
    "![logistic](../../img/logistic.png)"
   ]
  },
  {
   "cell_type": "markdown",
   "metadata": {},
   "source": [
    "## 로지스틱 회귀 모형의 가정\n",
    "i번째 데이터  \n",
    "$ x^{i} $  \n",
    "에 대하여 \n",
    "$ y^{i} = 1 $  \n",
    "일 확률을 다음과 같이 계산  \n",
    "$ f(x^{i}) = p(y^{i} = 1 | x^{i}) = \\frac{1}{1+e^{-({\\theta+\\theta_1x^i})}} $  \n",
    "그 후 나온 값으로 의사결정을 함  \n",
    "## 로지스틱 회귀 - 비용(cost)의 정의\n",
    "![cost](../../img/logistic_cost.png)\n",
    "$ J(\\theta_0, \\theta_1) = -\\frac{1}{m}\\sum_{i=1}^{m}[(y^{i}logf(x^{i})+(1-y^i)log(1-f(x^i))] $\n",
    "> 데이터를 올바르게 분류한다 -> 비용함수가 낮아져야 하므로 -log함수를 취한다  \n",
    "> y가 1, 0일 때의 경우를 나누어 비용함수 생각\n",
    ">> y가 1일 때 확률이 1에 가까워질 수록 비용함수 낮아짐, 0일 때 반대"
   ]
  },
  {
   "cell_type": "markdown",
   "metadata": {},
   "source": [
    "강의 9-3 ~ 9-5 다시 듣기"
   ]
  },
  {
   "cell_type": "markdown",
   "metadata": {},
   "source": []
  }
 ],
 "metadata": {
  "interpreter": {
   "hash": "451282c7329e2a6a364ca3aa9d61cbc27edaeb5d17f404c45e9cca05e3b54b52"
  },
  "kernelspec": {
   "display_name": "Python 3.8.12 ('da')",
   "language": "python",
   "name": "python3"
  },
  "language_info": {
   "name": "python",
   "version": "3.8.12"
  },
  "orig_nbformat": 4
 },
 "nbformat": 4,
 "nbformat_minor": 2
}
