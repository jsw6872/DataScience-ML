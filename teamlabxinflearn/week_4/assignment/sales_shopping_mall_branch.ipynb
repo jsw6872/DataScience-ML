{
 "cells": [
  {
   "cell_type": "markdown",
   "metadata": {},
   "source": [
    "# 쇼핑몰 지점별 매출액 "
   ]
  },
  {
   "cell_type": "markdown",
   "metadata": {},
   "source": [
    "## features\n",
    "- id : 샘플 아이디\n",
    "- Store : 쇼핑몰 지점 (어디 지역인지는 알 수 없음)\n",
    "- Date : 주 단위(Weekly) 날짜\n",
    "- Temperature : 해당 쇼핑몰 주변 기온\n",
    "- Fuel_Price : 해당 쇼핑몰 주변 연료 가격\n",
    "- Promotion 1~5 : 해당 쇼핑몰의 비식별화된 프로모션 정보\n",
    "- Unemployment : 해당 쇼핑몰 지역의 실업률\n",
    "- IsHoliday : 해당 기간의 공휴일 포함 여부\n",
    "- Weekly_Sales : 주간 매출액 (목표 예측값)"
   ]
  },
  {
   "cell_type": "markdown",
   "metadata": {},
   "source": [
    "## 분석 전 예상\n",
    "1. 주변 평균 기온이 적당(섭씨 18~24도)한 주는 그렇지 않을 때보다 같은 쇼핑몰에서의 주간 매출액이 높았을 것이다 (매출액 상위 10개 지점)\n",
    "2. 프로모션 수치가 높을 수록 주간 매출액은 높을 것이다 - (비식별화된 프로모션 정보이므로 시각화를 통해 매출과의 연관성 분석)\n",
    "3. 해당 쇼핑몰의 주변 연료 가격과 주간 매출액과의 연관성은 낮을 것이다 <-> 연료가격이 높아지는 것은 물가가 증가하는 것이므로 전체로 봤을 때 연료 가격이 증가하면 매출액이 적을 것으로 보임(체크)\n",
    "4. 쇼핑몰 간에 지역의 실업률이 높을수록 매출액이 더 낮을 것이다\n",
    "<!-- 5. 해당 기간의 공휴일이 있을 경우엔 같은 쇼핑몰일 때 주간 매출액이 높을 것이다 -->"
   ]
  },
  {
   "cell_type": "code",
   "execution_count": null,
   "metadata": {},
   "outputs": [],
   "source": [
    "import pandas as pd\n",
    "import numpy as np\n",
    "\n",
    "from scipy.interpolate import make_interp_spline\n",
    "from plotly.subplots import make_subplots as ms\n",
    "import matplotlib.pyplot as plt\n",
    "import seaborn as sns\n",
    "import plotly.graph_objects as go\n",
    "import plotly\n",
    "\n",
    "from datetime import datetime\n",
    "\n",
    "import os"
   ]
  },
  {
   "cell_type": "code",
   "execution_count": null,
   "metadata": {
    "scrolled": true
   },
   "outputs": [],
   "source": [
    "file_dir = './data'\n",
    "file_name = os.path.join(file_dir, 'train.csv')\n",
    "\n",
    "shop_df = pd.read_csv(file_name).set_index('id')\n",
    "shop_df.tail(10)"
   ]
  },
  {
   "cell_type": "code",
   "execution_count": null,
   "metadata": {},
   "outputs": [],
   "source": [
    "shop_df.isnull().sum()"
   ]
  },
  {
   "cell_type": "markdown",
   "metadata": {},
   "source": [
    "### 1. 평균 기온이 적당한 주는 그렇지 않을 때보다 지점이 같은 쇼핑몰에서의 주간 매출액이 높았을 것이다."
   ]
  },
  {
   "cell_type": "markdown",
   "metadata": {},
   "source": [
    "온도 범위를 18도 이하 24도 이상 3구간으로 나눠서 분류를 한 column추가"
   ]
  },
  {
   "cell_type": "code",
   "execution_count": null,
   "metadata": {},
   "outputs": [],
   "source": [
    "shop_df['Celcius_temp'] = shop_df['Temperature'].apply(\n",
    "    lambda x: 'under_10' if ((x-32)/1.8) < 10\n",
    "                         else ('over_26' if ((x-32)/1.8) > 26 else 'good_temp')\n",
    ")\n",
    "\n",
    "shop_df['Fuel_Price'] = shop_df['Fuel_Price'].apply(\n",
    "    lambda x: round(x,2)\n",
    ")\n",
    "\n",
    "shop_df.tail()"
   ]
  },
  {
   "cell_type": "code",
   "execution_count": null,
   "metadata": {},
   "outputs": [],
   "source": [
    "top_rank_store_list = shop_df.groupby('Store').mean()['Weekly_Sales'].sort_values()[::-1][:20].index\n",
    "top_rank_store_df = pd.DataFrame()\n",
    "\n",
    "for store_number in top_rank_store_list:\n",
    "    top_rank_store_df = pd.concat([top_rank_store_df, shop_df.loc[shop_df['Store'] == store_number]])\n",
    "top_rank_store_df.head()    "
   ]
  },
  {
   "cell_type": "code",
   "execution_count": null,
   "metadata": {},
   "outputs": [],
   "source": [
    "temp_df = top_rank_store_df.groupby(['Store', 'Celcius_temp']).mean().reset_index()\n",
    "temp_df.head()"
   ]
  },
  {
   "cell_type": "code",
   "execution_count": null,
   "metadata": {},
   "outputs": [],
   "source": [
    "plt.figure(figsize=(20, 10))\n",
    "plt.title('상위 20개 상점의 기온에 따른 거래량')\n",
    "sns.barplot(data = temp_df, x='Store', y='Weekly_Sales', hue= 'Celcius_temp')\n",
    "plt.show()"
   ]
  },
  {
   "cell_type": "markdown",
   "metadata": {},
   "source": [
    "> 기온이 적당하다고 해서 거래량에 직접적인 영향을 준다고 하기엔 어려워보임. -> 계절별 시계열 그래프 찍어서 패턴 찾는 것도 좋아보임  \n",
    "> 10년 2월부터 12년 9월까지 있으므로 봄은 3~5월, 여름은 6~8월, 가을은 9월~11월 겨울은 12월~2월까지로 함"
   ]
  },
  {
   "cell_type": "code",
   "execution_count": null,
   "metadata": {},
   "outputs": [],
   "source": [
    "shop_df['Date'] = shop_df['Date'].apply(lambda x: '-'.join([x.split('/')[1],x.split('/')[0],x.split('/')[2]]))"
   ]
  },
  {
   "cell_type": "code",
   "execution_count": null,
   "metadata": {},
   "outputs": [],
   "source": [
    "shop_df['Date'] = shop_df['Date'].astype({'Date' : 'datetime64'})\n",
    "shop_df.head()"
   ]
  },
  {
   "cell_type": "code",
   "execution_count": null,
   "metadata": {},
   "outputs": [],
   "source": [
    "shop_df['Month_Year'] = shop_df[\"Date\"].apply(lambda x: x[3:])"
   ]
  },
  {
   "cell_type": "code",
   "execution_count": null,
   "metadata": {},
   "outputs": [],
   "source": [
    "fig = go.Figure()    \n",
    "# fig = ms(specs=[[{'secondary_y': True}]])\n",
    "\n",
    "fig.add_trace(go.Scatter(x = shop_df.groupby('Date').mean().index, \n",
    "                        y = shop_df.groupby('Date').mean()['Weekly_Sales'],\n",
    "                        mode='lines', \n",
    "                        name='Weekly_Sales',)\n",
    "                        \n",
    ")\n",
    "\n",
    "quarter = ['03','06','09','12']\n",
    "color = ['green', 'red', 'yellow', 'white']\n",
    "for i in range(len(quarter)):    \n",
    "    fig.add_shape(type = 'line', x0 = f'2010-{quarter[i]}-01', y0 = 0, x1 = f'2010-{quarter[i]}-01', y1 =1, xref='x', yref='paper',\n",
    "                  line = {'color' : 'green'})\n",
    "    fig.add_shape(type = 'rect', x0 = f'2010-{quarter[i]}-01', y0 = 0, x1 = f'2010-{quarter[0] if i//3 == 1 else quarter[i+1]}-01', y1 =1, \n",
    "              fillcolor = color[i],opacity = 0.1, line = {'width' : 0}, xref='x',yref='paper')\n",
    "    \n",
    "    fig.add_shape(type = 'line', x0 = f'2011-{quarter[i]}-01', y0 = 0, x1 = f'2011-{quarter[i]}-01', y1 =1, xref='x', yref='paper',\n",
    "                  line = {'color' : 'green'})\n",
    "    fig.add_shape(type = 'rect', x0 = f'2011-{quarter[i]}-01', y0 = 0, x1 = f'2011-{quarter[0] if i//3 == 1 else quarter[i+1]}-01', y1 =1, \n",
    "              fillcolor = color[i],opacity = 0.1, line = {'width' : 0}, xref='x',yref='paper')\n",
    "\n",
    "    fig.add_shape(type = 'line', x0 = f'2012-{quarter[i]}-01', y0 = 0, x1 = f'2012-{quarter[i]}-01', y1 =1, xref='x', yref='paper',\n",
    "                  line = {'color' : 'green'})\n",
    "    fig.add_shape(type = 'rect', x0 = f'2012-{quarter[i]}-01', y0 = 0, x1 = f'2012-{quarter[0] if i//3 == 1 else quarter[i+1]}-01', y1 =1, \n",
    "              fillcolor = color[i],opacity = 0.1, line = {'width' : 0}, xref='x',yref='paper')\n",
    "fig.show()                  "
   ]
  },
  {
   "cell_type": "markdown",
   "metadata": {},
   "source": [
    "### 2. 프로모션 수치가 높을 수록 주간 매출액은 높을 것이다"
   ]
  },
  {
   "cell_type": "code",
   "execution_count": null,
   "metadata": {},
   "outputs": [],
   "source": [
    "plt.figure(figsize=(15, 10))\n",
    "corr = sns.heatmap(shop_df.groupby('Store').mean().drop(columns='IsHoliday').corr(method= \"spearman\"), annot=True, mask = np.triu(shop_df.groupby('Store').mean().drop(columns='IsHoliday').corr(method= \"spearman\")))\n",
    "plt.show()"
   ]
  },
  {
   "cell_type": "code",
   "execution_count": null,
   "metadata": {},
   "outputs": [],
   "source": [
    "for i in range(5):\n",
    "    shop_df[f'Promotion{i+1}'] = shop_df[f'Promotion{i+1}'].fillna(0)\n",
    "shop_df['sum_of_promotion'] = shop_df[['Promotion1','Promotion2','Promotion3','Promotion4','Promotion5']].sum(axis = 1)"
   ]
  },
  {
   "cell_type": "code",
   "execution_count": null,
   "metadata": {},
   "outputs": [],
   "source": [
    "plt.figure(figsize=(15, 10))\n",
    "\n",
    "sns.regplot(\n",
    "    data=shop_df.groupby('Store').mean(), x='sum_of_promotion', y=\"Weekly_Sales\",        \n",
    ")\n",
    "\n",
    "plt.show()"
   ]
  },
  {
   "cell_type": "code",
   "execution_count": null,
   "metadata": {},
   "outputs": [],
   "source": [
    "fig = ms(specs=[[{'secondary_y': True}]])\n",
    "\n",
    "fig.add_trace(go.Scatter(x = shop_df.groupby('Date').mean().index, \n",
    "                        y = shop_df.groupby('Date').mean()['Weekly_Sales'],\n",
    "                        mode='lines', \n",
    "                        name='Weekly_Sales',), secondary_y = False\n",
    ")\n",
    "\n",
    "fig.add_trace(go.Scatter(x = shop_df.groupby('Date').mean().index, \n",
    "                        y = shop_df.groupby('Date').mean()['sum_of_promotion'],\n",
    "                        mode='lines', \n",
    "                        name='sum_of_promotion',), secondary_y = True\n",
    ")\n",
    "\n",
    "fig.show() "
   ]
  },
  {
   "cell_type": "markdown",
   "metadata": {},
   "source": [
    "> 전체 상점 프로모션의 합의 평균과 주간 판매량의 평균은 상당한 선형관계를 가지고 있는 것으로 보아 높은 관련성이 있는 것을 그래프로 확인 가능"
   ]
  },
  {
   "cell_type": "code",
   "execution_count": null,
   "metadata": {},
   "outputs": [],
   "source": [
    "plt.figure(figsize=(15, 10))\n",
    "corr = sns.heatmap(shop_df.groupby('Store').mean()[['Promotion1','Promotion2','Promotion3','Promotion4','Promotion5', 'Weekly_Sales']].corr(method= \"spearman\"), annot=True), #mask = np.triu(shop_df.groupby('Store').mean().drop(columns='IsHoliday').corr(method= \"spearman\")))\n",
    "plt.show()"
   ]
  },
  {
   "cell_type": "markdown",
   "metadata": {},
   "source": [
    "### 3. 해당 쇼핑몰의 주변 연료 가격과 주간 매출액과의 연관성은 낮을 것이다 <-> 연료가격이 높아지는 것은 물가가 증가하는 것이므로 전체로 봤을 때 연료 가격이 증가하면 매출액이 적을 것으로 보임"
   ]
  },
  {
   "cell_type": "code",
   "execution_count": null,
   "metadata": {},
   "outputs": [],
   "source": [
    "top_rank_5_store_list = shop_df.groupby('Store').mean()['Weekly_Sales'].sort_values()[::-1][:5].index\n",
    "top_rank_5_store_df = pd.DataFrame()\n",
    "\n",
    "for store_number in top_rank_5_store_list:\n",
    "    top_rank_5_store_df = pd.concat([top_rank_5_store_df, shop_df.loc[shop_df['Store'] == store_number]])\n",
    "\n",
    "\n",
    "plt.figure(figsize=(20, 10))\n",
    "\n",
    "sns.lineplot(\n",
    "    data=top_rank_5_store_df, x=\"Fuel_Price\", y=\"Weekly_Sales\",\n",
    "    hue=\"Store\", palette='Set2'\n",
    ")\n",
    "plt.show()"
   ]
  },
  {
   "cell_type": "code",
   "execution_count": null,
   "metadata": {},
   "outputs": [],
   "source": [
    "plt.figure(figsize=(20, 10))\n",
    "sns.lineplot(top_rank_5_store_df.groupby('Fuel_Price').mean().index, top_rank_5_store_df.groupby('Fuel_Price').mean()['Weekly_Sales'])\n",
    "plt.show()"
   ]
  },
  {
   "cell_type": "markdown",
   "metadata": {},
   "source": [
    "> 기름가격과 판매량 사이의 관계는 크게 없어보이나 그래프가 많이 겹치는 것을 보아 특정 위치에 상관관계가 있어보임, 다만 기름값이 중간을 기점으로 크게 상승할 때엔 전체적으로 Sales_Price가 줄어든 것을 볼 수 있음"
   ]
  },
  {
   "cell_type": "code",
   "execution_count": null,
   "metadata": {},
   "outputs": [],
   "source": [
    "plt.figure(figsize=(25, 10))\n",
    "sns.lineplot(\n",
    "    data=top_rank_5_store_df, x=\"Date\", y=\"Fuel_Price\",\n",
    "    hue=\"Store\", palette='Set2', \n",
    ")\n",
    "\n",
    "plt.show()"
   ]
  },
  {
   "cell_type": "markdown",
   "metadata": {},
   "source": [
    "> 기름값은 거의 비슷한 추세로 가고 따라서 Date와 Sales_Price와의 연관성을 더 봐야할 것으로 판단"
   ]
  },
  {
   "cell_type": "markdown",
   "metadata": {},
   "source": [
    "### 4. 쇼핑몰 간 지역 실업률이 높을수록 매출액이 더 낮을 것이다"
   ]
  },
  {
   "cell_type": "code",
   "execution_count": null,
   "metadata": {},
   "outputs": [],
   "source": [
    "for store_num in top_rank_5_store_list:\n",
    "    # globals()[f'fig_{store_num}'] = go.Figure()    \n",
    "    globals()[f'fig_{store_num}'] = ms(specs=[[{'secondary_y': True}]])\n",
    "    \n",
    "    store_holiday_list = top_rank_5_store_df[(top_rank_5_store_df['IsHoliday'] == True) & (top_rank_5_store_df['Store']== store_num)]['Date'].tolist()\n",
    "    for i in store_holiday_list:\n",
    "        # print(i)\n",
    "        globals()[f'fig_{store_num}'].add_shape(type = 'line', x0 = f'{i}', y0 = 0, x1 = f'{i}', y1 =1, xref='x', yref='paper',\n",
    "                      line = {'color' : 'green'})\n",
    "    \n",
    "    globals()[f'fig_{store_num}'].add_trace(go.Scatter(x = shop_df[shop_df['Store'] == store_num]['Date'], \n",
    "                            y = shop_df[shop_df['Store'] == store_num]['Unemployment'],\n",
    "                            mode='lines', \n",
    "                            name=f'Unemployment_of_{store_num}',), secondary_y = False\n",
    "                            \n",
    "    )\n",
    "\n",
    "    globals()[f'fig_{store_num}'].add_trace(go.Scatter(x = shop_df[shop_df['Store'] == store_num]['Date'], \n",
    "                            y = shop_df[shop_df['Store'] == store_num]['Weekly_Sales'],\n",
    "                            mode='lines', \n",
    "                            name=f'Weekly_Sales_{store_num}'),secondary_y = True\n",
    "    )\n",
    "    \n",
    "\n",
    "    \n",
    "    \n",
    "\n",
    "fig_13.show()\n",
    "fig_20.show()\n",
    "fig_14.show()\n",
    "fig_2.show()\n",
    "fig_4.show()"
   ]
  },
  {
   "cell_type": "markdown",
   "metadata": {},
   "source": [
    "> 연관이 없는걸로 보임 하지만 5개의 상점 모두 특정 시기에 판매량이 급증하고 급감하는데 이를 알아볼 필요가 있어보임\n",
    "- 크리스마스 시즌에 매출이 급증하고 연초에 급감\n",
    "- 11월 수능시즌에 급증\n",
    "\n",
    "holiday 찍어보기\n",
    "\n",
    "공휴일 프로모션 가격 상관성 찍어보기"
   ]
  },
  {
   "cell_type": "code",
   "execution_count": null,
   "metadata": {},
   "outputs": [],
   "source": [
    "corr_df = shop_df.drop(columns=['Store', 'Fuel_Price', 'Temperature'])\n",
    "corr_df = pd.get_dummies(corr_df, columns = ['IsHoliday', 'Celcius_temp'])"
   ]
  },
  {
   "cell_type": "code",
   "execution_count": null,
   "metadata": {},
   "outputs": [],
   "source": [
    "plt.figure(figsize=(10, 10))\n",
    "corr = sns.heatmap(corr_df.corr(method= \"spearman\"), annot=True)\n",
    "plt.show()"
   ]
  },
  {
   "cell_type": "code",
   "execution_count": null,
   "metadata": {},
   "outputs": [],
   "source": [
    "# for store_num in top_rank_5_store_list:\n",
    "    \n",
    "    # 13 , 20 14 , 2 , 4\n",
    "aaa = top_rank_5_store_df[(top_rank_5_store_df['IsHoliday'] == True) & (top_rank_5_store_df['Store']== 13)]['Date'].tolist()\n",
    "bbb = top_rank_5_store_df[(top_rank_5_store_df['IsHoliday'] == True) & (top_rank_5_store_df['Store']== 20)]['Date'].tolist()\n",
    "ccc = top_rank_5_store_df[(top_rank_5_store_df['IsHoliday'] == True) & (top_rank_5_store_df['Store']== 14)]['Date'].tolist()\n",
    "ddd = top_rank_5_store_df[(top_rank_5_store_df['IsHoliday'] == True) & (top_rank_5_store_df['Store']== 2)]['Date'].tolist()\n",
    "eee = top_rank_5_store_df[(top_rank_5_store_df['IsHoliday'] == True) & (top_rank_5_store_df['Store']== 4)]['Date'].tolist()\n",
    "print(aaa)\n",
    "print(bbb)\n",
    "print(ccc)\n",
    "print(ddd)\n",
    "print(eee)\n",
    "data = {'13' : aaa,'20': bbb ,'14' : ccc,'2' : ddd,'4' : eee}\n",
    "pd.DataFrame(data)"
   ]
  }
 ],
 "metadata": {
  "interpreter": {
   "hash": "451282c7329e2a6a364ca3aa9d61cbc27edaeb5d17f404c45e9cca05e3b54b52"
  },
  "kernelspec": {
   "display_name": "Python 3 (ipykernel)",
   "language": "python",
   "name": "python3"
  },
  "language_info": {
   "codemirror_mode": {
    "name": "ipython",
    "version": 3
   },
   "file_extension": ".py",
   "mimetype": "text/x-python",
   "name": "python",
   "nbconvert_exporter": "python",
   "pygments_lexer": "ipython3",
   "version": "3.8.12"
  }
 },
 "nbformat": 4,
 "nbformat_minor": 2
}
