{
 "cells": [
  {
   "cell_type": "markdown",
   "metadata": {},
   "source": [
    "# feature selection"
   ]
  },
  {
   "cell_type": "markdown",
   "metadata": {},
   "source": [
    "- 현재 시점에 쓸 수 있는 feature인지 생각\n",
    "- 실시간 예측이 필요한데 모델이 너무 heavy하지 않은지\n",
    "- scale이 일정한가 Or 비율적으로 표현 가능한지\n",
    "- 극단적인 분포일 때 threshold로 잘라내기\n",
    "- correlation이 너무 높은 Feature는 하나만 선택\n",
    "- id와 같은 성향을 가진 Feature"
   ]
  },
  {
   "cell_type": "markdown",
   "metadata": {},
   "source": [
    "### 데이터 정리가 끝나면 학습하는 방법\n",
    "- 적합한 모델 선정 (실험)\n",
    "- 모델에 적합한 하이퍼 파라메터를 선정(실험)\n",
    "- 다양한 전처리 경우의 수를 입력(실험)\n",
    "- 학습 실행\n",
    "- 성능 평가"
   ]
  },
  {
   "cell_type": "markdown",
   "metadata": {},
   "source": []
  }
 ],
 "metadata": {
  "language_info": {
   "name": "python"
  },
  "orig_nbformat": 4
 },
 "nbformat": 4,
 "nbformat_minor": 2
}
