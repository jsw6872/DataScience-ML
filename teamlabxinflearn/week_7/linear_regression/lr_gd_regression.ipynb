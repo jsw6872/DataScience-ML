{
 "cells": [
  {
   "cell_type": "markdown",
   "metadata": {},
   "source": [
    "# Linear Regression"
   ]
  },
  {
   "cell_type": "code",
   "execution_count": null,
   "metadata": {},
   "outputs": [],
   "source": []
  },
  {
   "cell_type": "markdown",
   "metadata": {},
   "source": [
    "## 머신러닝 학습 방법"
   ]
  },
  {
   "cell_type": "markdown",
   "metadata": {},
   "source": [
    "### Supervised learning ( 지도학습 )\n",
    "훈련 데이터로부터 하나의 함수를 유추"
   ]
  },
  {
   "cell_type": "markdown",
   "metadata": {},
   "source": [
    "- Gradient descent based learning\n",
    "- Probability theory based learning\n",
    "- Information theroy based learning\n",
    "- Distance similarity based learning"
   ]
  },
  {
   "cell_type": "markdown",
   "metadata": {},
   "source": [
    "#### Gradient descent based learning\n",
    "- 실제 값과 학습된 모델 예측치의 오차 최소화\n",
    "- 모델의 최적 parameter 찾기가 목적\n"
   ]
  },
  {
   "cell_type": "markdown",
   "metadata": {},
   "source": [
    "## normal equation"
   ]
  },
  {
   "cell_type": "markdown",
   "metadata": {},
   "source": [
    "예측치 : $ \\hat{y} = ax + b $  \n",
    "실제 관측치 : $ y = ax + b + e $  "
   ]
  },
  {
   "cell_type": "markdown",
   "metadata": {},
   "source": [
    "#### cost function : 실제값과 가설함수 차이\n"
   ]
  },
  {
   "cell_type": "markdown",
   "metadata": {},
   "source": [
    "- cost function\n",
    "![cost function](../img/cost_function.png)"
   ]
  },
  {
   "cell_type": "markdown",
   "metadata": {},
   "source": [
    "![미분](../img/one_varaible.png)"
   ]
  },
  {
   "cell_type": "markdown",
   "metadata": {},
   "source": [
    "#### weights의 최적값 컴퓨터가 찾는 방법\n",
    "- 연립방정식 풀기\n",
    "- gradient descent"
   ]
  },
  {
   "cell_type": "markdown",
   "metadata": {},
   "source": [
    "#### normal equation"
   ]
  },
  {
   "cell_type": "markdown",
   "metadata": {},
   "source": [
    "![normal_eq_1](../img/normal_eq_1.png)"
   ]
  },
  {
   "cell_type": "markdown",
   "metadata": {},
   "source": [
    "![normal equation](../img/normal_equation.png)"
   ]
  },
  {
   "cell_type": "markdown",
   "metadata": {},
   "source": [
    "![normal equation](../img/normal_equation_2.png)"
   ]
  },
  {
   "cell_type": "markdown",
   "metadata": {},
   "source": [
    "$ w_0 는 상수항의 weight, w_1 은 x 계수의 weight $ "
   ]
  },
  {
   "cell_type": "markdown",
   "metadata": {},
   "source": [
    "- Iteration 등의 사용자 지정 Parameter가 없음  \n",
    "- Feature 가 많아지면 계산 속도가 느려짐\n",
    "- 역행렬이 존재하지 않을 경우 사용 못 함 ( 가우스 소거 시 0인 행, 열이 존재)\n"
   ]
  },
  {
   "cell_type": "markdown",
   "metadata": {},
   "source": [
    "# Gradient Descent"
   ]
  },
  {
   "cell_type": "markdown",
   "metadata": {},
   "source": [
    "#### 목적과 사용 이유\n",
    "- cost function의 최소값 찾기 (cost function이란 실제 데이터 값과 회귀선과의 차이)\n",
    "- 실제 미분계수를 계산하는 과정을 컴퓨터로 구현하는 것에 비해 gradient descent는 컴퓨터로 비교적 쉽게 구현할 수 있기 때문\n",
    "  \n",
    "- 처음 initial $\\theta$ 를 설정해서 회귀선을 만든 후 cost function의 최소값을 찾으며 최적의 $\\theta$ 를 찾아가는 과정"
   ]
  },
  {
   "cell_type": "markdown",
   "metadata": {},
   "source": [
    "- 해당 구간의 경사값이 0이 되는 지점을 찾는다"
   ]
  },
  {
   "cell_type": "markdown",
   "metadata": {},
   "source": [
    "$ x_{new} = x_{old} - \\alpha \\times (f(x_{old})') $"
   ]
  },
  {
   "cell_type": "code",
   "execution_count": null,
   "metadata": {},
   "outputs": [],
   "source": [
    "x = 5\n",
    "derivative = []\n",
    "y = []\n",
    "for i in range(100): # iterator 횟수 사용자가 지정해줘야 함\n",
    "    old_value = x\n",
    "    y.append(old_value ** 2) # x^2 \n",
    "    derivative.append(old_value - 0.01 * 2 * old_value) # 0.01도 사용자 지정\n",
    "    x = old_value - 0.01 * 2 * old_value"
   ]
  },
  {
   "cell_type": "markdown",
   "metadata": {},
   "source": [
    "- learning rate 과 loop에 따라 달라짐\n",
    "- learning rate 작을 경우\n",
    "  - loop이 충분하지 못 할 경우 최적값에 도달 못 함\n",
    "- learning rate 클 경우\n",
    "  - 최적값을 못 찾고 데이터가 튀어서 수렴을 못 함"
   ]
  },
  {
   "cell_type": "markdown",
   "metadata": {},
   "source": [
    "![cost_function](../img/cost_function.png)\n",
    "![cost_function](../img/cost_function_2.png)"
   ]
  },
  {
   "cell_type": "markdown",
   "metadata": {},
   "source": [
    "> 이 때  임의에 $w_1$ , $w_2$를 선정하고 점차 최적을 찾아가는 과정"
   ]
  },
  {
   "cell_type": "markdown",
   "metadata": {},
   "source": [
    "### $\\theta_1$ 업데이트 시 업데이트 된 $\\theta_0$ 를 사용하는 것이 아님 !\n",
    "- 둘다 업데이트가 된 후 우측항의 $J(\\theta_0, \\theta_1)$ 에 대입해야 함\n",
    "- $\\theta_0, \\theta_1$은 <i>동시적으로</i> 업데이트 되어야 함  \n",
    "\n",
    "우측항 $J(\\theta_0, \\theta_1)$ 에 들어갈 $\\theta_0, \\theta_1$  \n",
    "\n",
    "- $\\frac{\\partial J}{\\partial w_0} = \\frac{1}{m} \\sum_{i=1}^m (w_{1} x^{(i)} + w_{0} - y^{(i)})$ \n",
    "\n",
    "- $\\frac{\\partial J}{\\partial w_1} = \\frac{1}{m} \\sum_{i=1}^m (w_{1} x^{(i)} + w_{0} - y^{(i)})x^{(i)}$\n",
    "\n",
    "- $\\theta_0 := \\theta_0 - \\alpha \\frac{\\partial J}{\\partial w_0}$\n",
    "\n",
    "- $\\theta_1 := \\theta_1 - \\alpha \\frac{\\partial J}{\\partial w_1}$"
   ]
  },
  {
   "cell_type": "markdown",
   "metadata": {},
   "source": [
    "![Linear regression with GD](../img/linear_regression.png)"
   ]
  },
  {
   "cell_type": "markdown",
   "metadata": {},
   "source": [
    "Simultaneously 임이 중요"
   ]
  },
  {
   "cell_type": "markdown",
   "metadata": {},
   "source": [
    "- Learning rate, Iteration 횟수 등 Parameter 지정\n",
    "- Feature 가 많으면 Normal equation에 비해 상대적으로 빠름\n",
    "- 최적값에 수렴하지 않을 수도 있음"
   ]
  },
  {
   "cell_type": "markdown",
   "metadata": {},
   "source": [
    "### GD로 Linear Regression 구현해보기"
   ]
  },
  {
   "cell_type": "code",
   "execution_count": 2,
   "metadata": {},
   "outputs": [],
   "source": [
    "import matplotlib.pyplot as plt\n",
    "%matplotlib inline\n",
    "import pandas as pd\n",
    "import numpy as np"
   ]
  },
  {
   "cell_type": "code",
   "execution_count": 3,
   "metadata": {},
   "outputs": [
    {
     "data": {
      "text/html": [
       "<div>\n",
       "<style scoped>\n",
       "    .dataframe tbody tr th:only-of-type {\n",
       "        vertical-align: middle;\n",
       "    }\n",
       "\n",
       "    .dataframe tbody tr th {\n",
       "        vertical-align: top;\n",
       "    }\n",
       "\n",
       "    .dataframe thead th {\n",
       "        text-align: right;\n",
       "    }\n",
       "</style>\n",
       "<table border=\"1\" class=\"dataframe\">\n",
       "  <thead>\n",
       "    <tr style=\"text-align: right;\">\n",
       "      <th></th>\n",
       "      <th>X</th>\n",
       "      <th>Y</th>\n",
       "    </tr>\n",
       "  </thead>\n",
       "  <tbody>\n",
       "    <tr>\n",
       "      <th>0</th>\n",
       "      <td>108</td>\n",
       "      <td>392.5</td>\n",
       "    </tr>\n",
       "    <tr>\n",
       "      <th>1</th>\n",
       "      <td>19</td>\n",
       "      <td>46.2</td>\n",
       "    </tr>\n",
       "    <tr>\n",
       "      <th>2</th>\n",
       "      <td>13</td>\n",
       "      <td>15.7</td>\n",
       "    </tr>\n",
       "    <tr>\n",
       "      <th>3</th>\n",
       "      <td>124</td>\n",
       "      <td>422.2</td>\n",
       "    </tr>\n",
       "    <tr>\n",
       "      <th>4</th>\n",
       "      <td>40</td>\n",
       "      <td>119.4</td>\n",
       "    </tr>\n",
       "  </tbody>\n",
       "</table>\n",
       "</div>"
      ],
      "text/plain": [
       "     X      Y\n",
       "0  108  392.5\n",
       "1   19   46.2\n",
       "2   13   15.7\n",
       "3  124  422.2\n",
       "4   40  119.4"
      ]
     },
     "execution_count": 3,
     "metadata": {},
     "output_type": "execute_result"
    }
   ],
   "source": [
    "df = pd.read_csv(\"data/slr06.csv\")\n",
    "df.head()"
   ]
  },
  {
   "cell_type": "code",
   "execution_count": 10,
   "metadata": {},
   "outputs": [
    {
     "data": {
      "text/plain": [
       "(array([[108],\n",
       "        [ 19],\n",
       "        [ 13],\n",
       "        [124],\n",
       "        [ 40]]),\n",
       " array([392.5,  46.2,  15.7, 422.2, 119.4]))"
      ]
     },
     "execution_count": 10,
     "metadata": {},
     "output_type": "execute_result"
    }
   ],
   "source": [
    "raw_X = df[\"X\"].values.reshape(-1, 1) # 2 dimension\n",
    "y = df[\"Y\"].values\n",
    "raw_X[:5], y[:5]"
   ]
  },
  {
   "cell_type": "code",
   "execution_count": 12,
   "metadata": {},
   "outputs": [
    {
     "data": {
      "text/plain": [
       "array([[1.],\n",
       "       [1.],\n",
       "       [1.],\n",
       "       [1.],\n",
       "       [1.]])"
      ]
     },
     "execution_count": 12,
     "metadata": {},
     "output_type": "execute_result"
    }
   ],
   "source": [
    "np.ones((len(raw_X),1))[:5] # 상수항으로 해당"
   ]
  },
  {
   "cell_type": "code",
   "execution_count": 12,
   "metadata": {},
   "outputs": [
    {
     "data": {
      "text/plain": [
       "array([[  1., 108.],\n",
       "       [  1.,  19.],\n",
       "       [  1.,  13.],\n",
       "       [  1., 124.],\n",
       "       [  1.,  40.]])"
      ]
     },
     "execution_count": 12,
     "metadata": {},
     "output_type": "execute_result"
    }
   ],
   "source": [
    "X = np.concatenate(\n",
    "  (np.ones((len(raw_X),1)), raw_X), axis=1\n",
    ")\n",
    "X[:5]"
   ]
  },
  {
   "cell_type": "code",
   "execution_count": 19,
   "metadata": {},
   "outputs": [
    {
     "data": {
      "text/plain": [
       "array([3.16591838, 2.38109294])"
      ]
     },
     "execution_count": 19,
     "metadata": {},
     "output_type": "execute_result"
    }
   ],
   "source": [
    "w = np.random.normal((2,1)) # 정규분포로 부터 (2,1)형태의 어레이\n",
    "w"
   ]
  },
  {
   "cell_type": "code",
   "execution_count": 21,
   "metadata": {},
   "outputs": [
    {
     "data": {
      "text/plain": [
       "[<matplotlib.lines.Line2D at 0x7fdb43963670>]"
      ]
     },
     "execution_count": 21,
     "metadata": {},
     "output_type": "execute_result"
    },
    {
     "data": {
      "image/png": "[encoded data removed]",
      "text/plain": [
       "<Figure size 720x360 with 1 Axes>"
      ]
     },
     "metadata": {
      "needs_background": "light"
     },
     "output_type": "display_data"
    }
   ],
   "source": [
    "plt.figure(figsize=(10,5)) # fig 인스턴스 생성\n",
    "plt.plot(raw_X,y, 'o', alpha=0.5) # 원형 마커의 투명도는 0.5인 라인 플롯을 그림( defalult 는 실선)\n",
    "\n",
    "y_predict = np.dot(X, w)\n",
    "plt.plot(raw_X,y_predict)"
   ]
  },
  {
   "cell_type": "code",
   "execution_count": 22,
   "metadata": {},
   "outputs": [
    {
     "data": {
      "text/plain": [
       "array([260.32395638,  48.40668433,  34.12012666, 298.4214435 ,\n",
       "        98.40963616, 138.88821622,  57.93105611,  36.50121961,\n",
       "       110.31510088,  26.97684783,  15.07138311, 117.45837972,\n",
       "        29.35794077,  57.93105611,  19.833569  ,   7.92810427,\n",
       "        60.31214905,  17.45247605,  10.30919722,  57.93105611,\n",
       "        17.45247605,  24.59575488,  24.59575488,  10.30919722,\n",
       "        72.21761377,  19.833569  ,  12.69029016,  50.78777727,\n",
       "        19.833569  ,  12.69029016,   3.16591838,  62.693242  ,\n",
       "        17.45247605,  15.07138311,  55.54996316,  29.35794077,\n",
       "       148.412588  ,  31.73903372,  12.69029016,  41.2634055 ,\n",
       "        34.12012666, 146.03149505, 100.79072911,  91.26635733,\n",
       "       134.12603033, 100.79072911,  29.35794077,  67.45542788,\n",
       "        22.21466194,  10.30919722,  43.64449844,  34.12012666,\n",
       "        34.12012666,  38.88231255,  22.21466194,  72.21761377,\n",
       "        74.59870672,  60.31214905,  24.59575488,  76.97979966,\n",
       "        36.50121961, 129.36384444,  65.07433494])"
      ]
     },
     "execution_count": 22,
     "metadata": {},
     "output_type": "execute_result"
    }
   ],
   "source": [
    "y_predict"
   ]
  },
  {
   "cell_type": "markdown",
   "metadata": {},
   "source": [
    "### Gradient Descent 구현"
   ]
  },
  {
   "cell_type": "markdown",
   "metadata": {},
   "source": [
    "- $ f(x) = h_\\theta(x) $"
   ]
  },
  {
   "cell_type": "code",
   "execution_count": 23,
   "metadata": {},
   "outputs": [],
   "source": [
    "def hypothesis_function(X, theta):\n",
    "    return X.dot(theta)"
   ]
  },
  {
   "cell_type": "markdown",
   "metadata": {},
   "source": [
    "![cost_function](../img/cost_function.png)"
   ]
  },
  {
   "cell_type": "code",
   "execution_count": 24,
   "metadata": {},
   "outputs": [],
   "source": [
    "def cost_function(h, y):\n",
    "    return (1/(2*len(y))) * np.sum((h-y)**2)"
   ]
  },
  {
   "cell_type": "code",
   "execution_count": 25,
   "metadata": {},
   "outputs": [
    {
     "data": {
      "text/plain": [
       "1730.989657038738"
      ]
     },
     "execution_count": 25,
     "metadata": {},
     "output_type": "execute_result"
    }
   ],
   "source": [
    "h = hypothesis_function(X, w)  # 1열을 가진 벡터 형태\n",
    "cost_function(h, y)"
   ]
  },
  {
   "cell_type": "markdown",
   "metadata": {},
   "source": [
    "gredient_descent를 통해 theta를 구한 뒤 hypothesis_function와 cost_function을 이용해 값을 구함"
   ]
  },
  {
   "cell_type": "code",
   "execution_count": 26,
   "metadata": {},
   "outputs": [],
   "source": [
    "def gradient_descent(X, y, w, alpha, iterations):\n",
    "    theta = w\n",
    "    m = len(y)\n",
    "    \n",
    "    theta_list = [theta.tolist()]\n",
    "    cost = cost_function(hypothesis_function(X, theta), y)\n",
    "    cost_list = [cost]\n",
    "\n",
    "    for i in range(iterations):\n",
    "        t0 = theta[0] - (alpha / m) * np.sum(np.dot(X, theta) - y)\n",
    "        t1 = theta[1] - (alpha / m) * np.sum((np.dot(X, theta) - y) * X[:,1])\n",
    "        theta = np.array([t0, t1])\n",
    "        \n",
    "        if i % 10== 0:\n",
    "            theta_list.append(theta.tolist())\n",
    "            cost = cost_function(hypothesis_function(X, theta), y)\n",
    "            cost_list.append(cost)\n",
    "\n",
    "\n",
    "    return theta, theta_list, cost_list"
   ]
  },
  {
   "cell_type": "code",
   "execution_count": 27,
   "metadata": {},
   "outputs": [
    {
     "name": "stdout",
     "output_type": "stream",
     "text": [
      "theta: [19.88741985  3.41613537]\n",
      "cost: 625.3738629516859\n"
     ]
    }
   ],
   "source": [
    "# Do Linear regression with GD\n",
    "iterations = 10000\n",
    "alpha = 0.001\n",
    "\n",
    "theta, theta_list, cost_list = gradient_descent(X, y, w, alpha, iterations)\n",
    "cost = cost_function(hypothesis_function(X, theta), y)\n",
    "\n",
    "print(\"theta:\", theta)\n",
    "print('cost:', cost_function(hypothesis_function(X, theta), y))"
   ]
  },
  {
   "cell_type": "code",
   "execution_count": 29,
   "metadata": {},
   "outputs": [],
   "source": [
    "theta_list = np.array(theta_list)"
   ]
  },
  {
   "cell_type": "code",
   "execution_count": 30,
   "metadata": {},
   "outputs": [
    {
     "data": {
      "image/png": "[encoded data removed]",
      "text/plain": [
       "<Figure size 720x360 with 1 Axes>"
      ]
     },
     "metadata": {
      "needs_background": "light"
     },
     "output_type": "display_data"
    }
   ],
   "source": [
    "plt.figure(figsize=(10,5))\n",
    "\n",
    "# EX) X ; 63 by 2, y ; 100 by 2 => y.transpose() ; 2 by 100\n",
    "# theta : 63개 => 예측값 ; 63번동안 예측한 값\n",
    "y_predict_step = np.dot(X, theta_list.transpose())\n",
    "\n",
    "plt.plot(raw_X, y, 'o', alpha = 0.5)\n",
    "\n",
    "# 100번 마다 나타내기\n",
    "for i in range(0, len(cost_list), 100):\n",
    "    plt.plot(raw_X, y_predict_step[:,i], label = 'Line %d' %i)\n",
    "\n",
    "plt.legend(bbox_to_anchor = (1.05, 1), loc = 2, borderaxespad = 0.)\n",
    "plt.show()"
   ]
  },
  {
   "cell_type": "code",
   "execution_count": 32,
   "metadata": {},
   "outputs": [
    {
     "data": {
      "text/plain": [
       "[<matplotlib.lines.Line2D at 0x7fdb43dd04f0>]"
      ]
     },
     "execution_count": 32,
     "metadata": {},
     "output_type": "execute_result"
    },
    {
     "data": {
      "image/png": "[encoded data removed]",
      "text/plain": [
       "<Figure size 432x288 with 1 Axes>"
      ]
     },
     "metadata": {
      "needs_background": "light"
     },
     "output_type": "display_data"
    }
   ],
   "source": [
    "plt.title('cost_graph')\n",
    "plt.plot(range(len(cost_list)), cost_list)"
   ]
  },
  {
   "cell_type": "markdown",
   "metadata": {},
   "source": [
    "### Multivariate linear regression models (다항식)"
   ]
  },
  {
   "cell_type": "markdown",
   "metadata": {},
   "source": [
    "![simult_update](../img/simult_update.png)"
   ]
  }
 ],
 "metadata": {
  "interpreter": {
   "hash": "451282c7329e2a6a364ca3aa9d61cbc27edaeb5d17f404c45e9cca05e3b54b52"
  },
  "kernelspec": {
   "display_name": "Python 3.8.12 ('da')",
   "language": "python",
   "name": "python3"
  },
  "language_info": {
   "codemirror_mode": {
    "name": "ipython",
    "version": 3
   },
   "file_extension": ".py",
   "mimetype": "text/x-python",
   "name": "python",
   "nbconvert_exporter": "python",
   "pygments_lexer": "ipython3",
   "version": "3.8.12"
  },
  "orig_nbformat": 4
 },
 "nbformat": 4,
 "nbformat_minor": 2
}
