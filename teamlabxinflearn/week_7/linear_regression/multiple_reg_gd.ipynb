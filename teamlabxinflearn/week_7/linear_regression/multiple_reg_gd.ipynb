{
 "cells": [
  {
   "cell_type": "code",
   "execution_count": 1,
   "metadata": {},
   "outputs": [],
   "source": [
    "from sklearn.datasets import load_boston\n",
    "import matplotlib.pyplot as plt\n",
    "import numpy as np\n",
    "import random\n",
    "%matplotlib inline"
   ]
  },
  {
   "cell_type": "markdown",
   "metadata": {},
   "source": [
    "### 임의 Data 생성 함수\n",
    "- numPoints : 데이터의 개수\n",
    "- bias : 기본 절편 값"
   ]
  },
  {
   "cell_type": "code",
   "execution_count": 2,
   "metadata": {},
   "outputs": [],
   "source": [
    "def gen_data(numPoints, bias, variance):\n",
    "    x = np.zeros(shape = (numPoints, 3))\n",
    "    y = np.zeros(shape = numPoints)\n",
    "\n",
    "    # basically a straight line\n",
    "    for i in range(0, numPoints):\n",
    "        # bias feature\n",
    "        x[i][0] = random.uniform(0,1) * variance + i\n",
    "        x[i][1] = random.uniform(0,1) * variance + i\n",
    "        x[i][2] = 1\n",
    "\n",
    "        # our target variable\n",
    "        y[i] = (i + bias) + random.uniform(0,1) * variance + 500\n",
    "    return x, y"
   ]
  },
  {
   "cell_type": "code",
   "execution_count": 4,
   "metadata": {},
   "outputs": [
    {
     "data": {
      "image/png": "[encoded data removed]",
      "text/plain": [
       "<Figure size 432x288 with 1 Axes>"
      ]
     },
     "metadata": {
      "needs_background": "light"
     },
     "output_type": "display_data"
    }
   ],
   "source": [
    "x, y = gen_data(100, 25, 10)\n",
    "\n",
    "plt.plot(x[:,0:1], 'ro')\n",
    "plt.plot(y, 'bo')\n",
    "\n",
    "plt.show()"
   ]
  },
  {
   "cell_type": "markdown",
   "metadata": {},
   "source": [
    "### cost 구하기"
   ]
  },
  {
   "cell_type": "code",
   "execution_count": 5,
   "metadata": {},
   "outputs": [],
   "source": [
    "def compute_cost(x, y, theta):\n",
    "    '''\n",
    "    Comput cost for linear regression\n",
    "    '''\n",
    "\n",
    "    # Number of training samples\n",
    "    m = y.size\n",
    "    # y_predict = xw\n",
    "    predictions = x.dot(theta)\n",
    "    sqErrors = (predictions - y)\n",
    "\n",
    "    J = ( 1.0/ (2 * m) ) * sqErrors.T.dot(sqErrors)\n",
    "    return J"
   ]
  },
  {
   "cell_type": "code",
   "execution_count": 6,
   "metadata": {},
   "outputs": [],
   "source": [
    "def minimize_gradient(x, y, theta, iterations = 100000, alpha = 0.01):\n",
    "    m = y.size\n",
    "    cost_history = []\n",
    "    theta_history = []\n",
    "\n",
    "    for _ in range(iterations):\n",
    "        # xw, 100 by1\n",
    "        predictions = x.dot(theta)\n",
    "\n",
    "        # 0~n ; number of features 만큼 발생\n",
    "        for n in range(theta.size):\n",
    "            partial_marginal = x[:, n]\n",
    "            # (100 by 1 - 100 by 1) * (100 by 1) => 100 by 1\n",
    "            errors_xn = (predictions - y) * partial_marginal\n",
    "            # theta update \n",
    "            theta[n] = theta[n] - alpha * (1.0 / m) * errors_xn.sum()\n",
    "\n",
    "        if _ % 1000 == 0:\n",
    "            theta_history.append(theta)\n",
    "            cost_history.append(compute_cost(x, y, theta))\n",
    "    \n",
    "    return theta, np.array(cost_history), np.array(theta_history)"
   ]
  },
  {
   "cell_type": "code",
   "execution_count": 9,
   "metadata": {},
   "outputs": [
    {
     "name": "stdout",
     "output_type": "stream",
     "text": [
      "theta [3.58442813e-01 6.25744446e-01 5.26157720e+02]\n"
     ]
    }
   ],
   "source": [
    "theta_initial = np.ones(3)\n",
    "\n",
    "theta, cost_history, theta_history = minimize_gradient(x, y, theta_initial, 1000000, 0.0001)\n",
    "print('theta', theta)"
   ]
  },
  {
   "cell_type": "markdown",
   "metadata": {},
   "source": [
    "### sklearn과 비교"
   ]
  },
  {
   "cell_type": "code",
   "execution_count": 10,
   "metadata": {},
   "outputs": [
    {
     "name": "stdout",
     "output_type": "stream",
     "text": [
      "Coefficients:  [0.35844281 0.62574445]\n",
      "intercept:  526.1577198545316\n"
     ]
    }
   ],
   "source": [
    "from sklearn import linear_model\n",
    "\n",
    "regr = linear_model.LinearRegression()\n",
    "regr.fit(x[:,:2], y)\n",
    "\n",
    "# The coefficients\n",
    "print('Coefficients: ', regr.coef_) \n",
    "print('intercept: ', regr.intercept_)"
   ]
  },
  {
   "cell_type": "markdown",
   "metadata": {},
   "source": [
    "### predict"
   ]
  },
  {
   "cell_type": "code",
   "execution_count": 17,
   "metadata": {},
   "outputs": [
    {
     "data": {
      "text/plain": [
       "array([10.812234  ,  5.98383568,  1.        ])"
      ]
     },
     "execution_count": 17,
     "metadata": {},
     "output_type": "execute_result"
    }
   ],
   "source": [
    "x[1]"
   ]
  },
  {
   "cell_type": "code",
   "execution_count": 11,
   "metadata": {},
   "outputs": [
    {
     "name": "stdout",
     "output_type": "stream",
     "text": [
      "537.299539021557\n",
      "[537.29953915]\n"
     ]
    }
   ],
   "source": [
    "print(np.dot(theta, x[10]))\n",
    "print(regr.predict(x[10,:2].reshape(1,2)))"
   ]
  }
 ],
 "metadata": {
  "interpreter": {
   "hash": "451282c7329e2a6a364ca3aa9d61cbc27edaeb5d17f404c45e9cca05e3b54b52"
  },
  "kernelspec": {
   "display_name": "Python 3.8.12 ('da')",
   "language": "python",
   "name": "python3"
  },
  "language_info": {
   "codemirror_mode": {
    "name": "ipython",
    "version": 3
   },
   "file_extension": ".py",
   "mimetype": "text/x-python",
   "name": "python",
   "nbconvert_exporter": "python",
   "pygments_lexer": "ipython3",
   "version": "3.8.12"
  },
  "orig_nbformat": 4
 },
 "nbformat": 4,
 "nbformat_minor": 2
}
