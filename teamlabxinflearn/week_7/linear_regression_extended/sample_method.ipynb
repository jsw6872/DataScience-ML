{
 "cells": [
  {
   "cell_type": "markdown",
   "metadata": {},
   "source": [
    "# Smapling method"
   ]
  },
  {
   "cell_type": "markdown",
   "metadata": {},
   "source": [
    "## Performance Measure Techniques"
   ]
  },
  {
   "cell_type": "markdown",
   "metadata": {},
   "source": [
    "6:2:2 비율로 많이 사용\n",
    "\n",
    "- Training : Model Building\n",
    "- Validation : Model Check\n",
    "- Test : Model Evaluation"
   ]
  },
  {
   "cell_type": "markdown",
   "metadata": {},
   "source": [
    "### Validation Set"
   ]
  },
  {
   "cell_type": "markdown",
   "metadata": {},
   "source": [
    "- Test Set은 Model이 생성 시 절대 Training Set에 포함되지 않아야함\n",
    "\n",
    "- Test Set과 달리 Model 생성시 Model에 성능을 평가하기 위해 사용\n",
    "\n",
    "- Hyper Parameter Turning 시 성능 평가를 위해 Overfitting 방지\n",
    "\n",
    "- Training 중간에 Model 성능 점검"
   ]
  },
  {
   "cell_type": "markdown",
   "metadata": {},
   "source": [
    "## k-fold cross validation"
   ]
  },
  {
   "cell_type": "markdown",
   "metadata": {},
   "source": [
    "- 학습 데이터를 k번 나눠서 Test와 Train을 실시 -> Test의 평균값을 사용\n",
    "- 모델의 Parameter 튜닝, 간단한 모델의 최종 성능 측정 등 사용\n",
    "\n",
    "![kfold](../../img/k_fold.png)"
   ]
  },
  {
   "cell_type": "code",
   "execution_count": 1,
   "metadata": {},
   "outputs": [
    {
     "name": "stdout",
     "output_type": "stream",
     "text": [
      "TRAIN -  len :  455 [0 1 2 3 4 5 6 7 8 9]\n",
      "TEST -  len :  51 [ 10  30  42  56  68  81  91 102 108 112]\n",
      "TRAIN -  len :  455 [ 1  2  3  4  5  7  8 10 11 12]\n",
      "TEST -  len :  51 [  0   6   9  46  59  71  95 100 101 106]\n",
      "TRAIN -  len :  455 [ 0  2  3  4  5  6  7  8  9 10]\n",
      "TEST -  len :  51 [ 1 23 25 34 37 53 55 62 66 73]\n",
      "TRAIN -  len :  455 [ 0  1  2  3  4  6  7  9 10 12]\n",
      "TEST -  len :  51 [ 5  8 11 13 31 35 36 39 43 51]\n",
      "TRAIN -  len :  455 [0 1 2 3 4 5 6 7 8 9]\n",
      "TEST -  len :  51 [ 22  28  33  44  70  76  83  87  99 110]\n",
      "TRAIN -  len :  455 [0 1 2 3 4 5 6 7 8 9]\n",
      "TEST -  len :  51 [16 21 32 47 64 72 77 82 84 89]\n",
      "TRAIN -  len :  456 [ 0  1  2  5  6  7  8  9 10 11]\n",
      "TEST -  len :  50 [  3   4  29  38  49  52  60  80  97 111]\n",
      "TRAIN -  len :  456 [0 1 2 3 4 5 6 7 8 9]\n",
      "TEST -  len :  50 [15 20 24 27 40 41 45 48 50 54]\n",
      "TRAIN -  len :  456 [ 0  1  2  3  4  5  6  8  9 10]\n",
      "TEST -  len :  50 [  7  17  18  57  69  78  85  90  98 103]\n",
      "TRAIN -  len :  456 [ 0  1  3  4  5  6  7  8  9 10]\n",
      "TEST -  len :  50 [ 2 12 14 19 26 58 63 75 88 92]\n"
     ]
    }
   ],
   "source": [
    "from sklearn import datasets\n",
    "from sklearn.model_selection import KFold\n",
    "from sklearn.model_selection import KFold\n",
    "\n",
    "import warnings\n",
    "\n",
    "warnings.filterwarnings(action ='ignore')\n",
    "\n",
    "boston = datasets.load_boston()\n",
    "X = boston.data\n",
    "y = boston.target\n",
    "\n",
    "kf = KFold(n_splits=10, shuffle =True)\n",
    "\n",
    "for train_index, test_index in kf.split(X):\n",
    "    print('TRAIN - ', 'len : ', len(train_index), train_index[:10] )\n",
    "    print('TEST - ', 'len : ', len(test_index), test_index[:10])"
   ]
  },
  {
   "cell_type": "markdown",
   "metadata": {},
   "source": [
    "### 실제 모델에 적용 예시"
   ]
  },
  {
   "cell_type": "code",
   "execution_count": 2,
   "metadata": {},
   "outputs": [
    {
     "data": {
      "text/plain": [
       "(34.46408458830232, 34.07824620925927)"
      ]
     },
     "execution_count": 2,
     "metadata": {},
     "output_type": "execute_result"
    }
   ],
   "source": [
    "from sklearn.linear_model import Lasso, Ridge\n",
    "from sklearn.metrics import mean_squared_error\n",
    "\n",
    "kf = KFold(n_splits = 10)\n",
    "lasso_regressor = Lasso()\n",
    "ridge_regressor = Ridge()\n",
    "\n",
    "lasso_mse = []\n",
    "ridge_mse = []\n",
    "\n",
    "for train_index, test_index in kf.split(X):\n",
    "    lasso_regressor.fit(X[train_index], y[train_index])\n",
    "    ridge_regressor.fit(X[train_index], y[train_index])\n",
    "\n",
    "    lasso_mse.append(\n",
    "        mean_squared_error(y[test_index], lasso_regressor.predict(X[test_index]))\n",
    "    )\n",
    "    ridge_mse.append(\n",
    "        mean_squared_error(y[test_index], ridge_regressor.predict(X[test_index]))\n",
    "    )\n",
    "\n",
    "# Average\n",
    "sum(lasso_mse) / 10, sum(ridge_mse) / 10"
   ]
  },
  {
   "cell_type": "markdown",
   "metadata": {},
   "source": [
    "### 더 간단한 방법\n",
    "- cross_val_score 함수로, 한번에 해결 가능\n",
    "\n",
    "- sklearn은 pipeline등을 위해 'High is better'로 처리( MSE를 Negative로 변환)  \n",
    "이로 인해 RMSE 지원 X\n",
    "\n",
    "- cv : kfold split 횟수 만큼 cross validation score 계산\n",
    "\n",
    "- neg : negative 작은게 좋은 걸로 인지"
   ]
  },
  {
   "cell_type": "code",
   "execution_count": 3,
   "metadata": {},
   "outputs": [
    {
     "data": {
      "text/plain": [
       "(-34.46408458830232, -34.07824620925927)"
      ]
     },
     "execution_count": 3,
     "metadata": {},
     "output_type": "execute_result"
    }
   ],
   "source": [
    "from sklearn.model_selection import cross_val_score\n",
    "import numpy as np\n",
    "\n",
    "lasso_regressor = Lasso(warm_start = False)\n",
    "ridge_regressor = Ridge()\n",
    "\n",
    "lasso_scores = cross_val_score(lasso_regressor, X, y, cv = 10, scoring = 'neg_mean_squared_error')\n",
    "ridge_scores = cross_val_score(ridge_regressor, X, y, cv = 10, scoring = 'neg_mean_squared_error')\n",
    "\n",
    "np.mean(lasso_scores), np.mean(ridge_scores)\n"
   ]
  },
  {
   "cell_type": "markdown",
   "metadata": {},
   "source": [
    "> cross_validate 보다는 cross_val_score를 자주 사용"
   ]
  },
  {
   "cell_type": "code",
   "execution_count": 4,
   "metadata": {},
   "outputs": [
    {
     "data": {
      "text/plain": [
       "{'fit_time': array([0.0008769 , 0.00099301, 0.00082994, 0.00116992, 0.00089598,\n",
       "        0.00076795, 0.00082612, 0.00096321, 0.00125384, 0.00098109]),\n",
       " 'score_time': array([0.00040507, 0.000489  , 0.00041389, 0.00042176, 0.00041294,\n",
       "        0.00039601, 0.00039697, 0.00046587, 0.00052929, 0.00036597]),\n",
       " 'test_score': array([  -9.31766315,  -12.60806897,  -10.79859434,  -36.6093648 ,\n",
       "         -29.62109212,  -18.62598134,   -9.46641896, -168.49831117,\n",
       "         -33.79749469,  -11.43947255])}"
      ]
     },
     "execution_count": 4,
     "metadata": {},
     "output_type": "execute_result"
    }
   ],
   "source": [
    "from sklearn.model_selection import cross_validate\n",
    "import numpy as np\n",
    "\n",
    "lasso_regressor = Lasso(warm_start = False)\n",
    "ridge_regressor = Ridge()\n",
    "\n",
    "lasso_scores = cross_validate(lasso_regressor, X, y, cv = 10, scoring = 'neg_mean_squared_error')\n",
    "ridge_scores = cross_validate(ridge_regressor, X, y, cv = 10, scoring = 'neg_mean_squared_error')\n",
    "ridge_scores"
   ]
  },
  {
   "cell_type": "markdown",
   "metadata": {},
   "source": [
    "## Leave One Out (LOO) - 잘 안 씀"
   ]
  },
  {
   "cell_type": "markdown",
   "metadata": {},
   "source": [
    "- Simple cross validation  k = data size\n",
    "- 한번에 한 개의 data만 Test set으로 사용함  총 k번 iteration\n",
    "- 속도 오래 걸림"
   ]
  },
  {
   "cell_type": "code",
   "execution_count": 6,
   "metadata": {},
   "outputs": [
    {
     "data": {
      "text/plain": [
       "(-28.409266762049334, -23.862836317209972)"
      ]
     },
     "execution_count": 6,
     "metadata": {},
     "output_type": "execute_result"
    }
   ],
   "source": [
    "from sklearn.model_selection import LeaveOneOut\n",
    "\n",
    "loo = LeaveOneOut()\n",
    "\n",
    "lasso_scores = cross_val_score(lasso_regressor, X, y, cv = loo, scoring = 'neg_mean_squared_error')\n",
    "ridge_scores = cross_val_score(ridge_regressor, X, y, cv = loo, scoring = 'neg_mean_squared_error')\n",
    "\n",
    "np.mean(lasso_scores), np.mean(ridge_scores)"
   ]
  },
  {
   "cell_type": "markdown",
   "metadata": {},
   "source": [
    "##  Validation set for parameter turning\n",
    "- Validation set의 많은 이유 중 하나가 Hyper parameter turning\n",
    "\n",
    "- Number of iterations (SGD), Number of branch (Tree-based) etc.\n",
    "\n",
    "- Validation set의 성능으로 최적의 parameter 찾음\n",
    "\n",
    "- Validation set 결과와 Training set 결과의 차이가 벌어지면 Overfitting"
   ]
  },
  {
   "cell_type": "code",
   "execution_count": 8,
   "metadata": {},
   "outputs": [],
   "source": [
    "def rmse(predictions, targets):\n",
    "    return np.sqrt(( (predictions - targets)**2 ).mean())"
   ]
  },
  {
   "cell_type": "code",
   "execution_count": 7,
   "metadata": {},
   "outputs": [],
   "source": [
    "from sklearn.linear_model import SGDRegressor\n",
    "from sklearn.preprocessing import StandardScaler\n",
    "\n",
    "std = StandardScaler()\n",
    "std.fit(X)\n",
    "X_scaled = std.transform(X)\n",
    "\n",
    "# Learning rate\n",
    "eta0 = 0.00000001\n",
    "max_iter = 10000"
   ]
  },
  {
   "cell_type": "markdown",
   "metadata": {},
   "source": [
    "- cold_start : 아무것도 주어지지 않은 경우 추천\n",
    "- warm_start : 이전에 학습한 coef, intercept가 주어진 경우 True\n",
    "- learning_rate = 'constant' : learning rate가 변하지 않음"
   ]
  },
  {
   "cell_type": "code",
   "execution_count": 12,
   "metadata": {},
   "outputs": [],
   "source": [
    "from sklearn.model_selection import train_test_split\n",
    "\n",
    "X_train_dataset, X_test, y_train_dataset, y_test = train_test_split(\n",
    "    X, y, test_size = 0.2, random_state = 42)\n",
    "\n",
    "sgd_regressor = SGDRegressor(\n",
    "    eta0 = eta0, max_iter = max_iter, warm_start =True, learning_rate = 'constant')\n",
    "\n",
    "rmse_val_score = []\n",
    "rmse_train_score = []\n",
    "model_list = []\n",
    "\n",
    "X_train, X_val, y_train, y_val = train_test_split(\n",
    "    X_train_dataset, y_train_dataset, test_size = 0.2, random_state =42)\n",
    "\n",
    "sgd_regressor.fit(X_train, y_train)\n",
    "\n",
    "# kf = KFold(n_splits = 100, shuffle = True)\n",
    "#   for train_index, test_index in kf.split(X_train_dataset):\n",
    "\n",
    "for i in range(200):\n",
    "    y_pred = sgd_regressor.predict(X_train)\n",
    "    y_true = y_train\n",
    "    rmse_train_score.append( rmse(y_pred, y_true) )\n",
    "\n",
    "    y_pred = sgd_regressor.predict(X_val)\n",
    "    y_true = y_val\n",
    "    rmse_val_score.append( rmse(y_pred, y_true) )\n",
    "    model_list.append(sgd_regressor)    \n",
    "    \n",
    "    # warm start를 위해 기존 학습한 값 저장\n",
    "    coef = sgd_regressor.coef_.copy()\n",
    "    intercept = sgd_regressor.intercept_.copy()\n",
    "\n",
    "    sgd_regressor = SGDRegressor(\n",
    "        eta0 = eta0, max_iter = max_iter, warm_start =True, learning_rate = 'constant')\n",
    "    # 초기 coef, intercept 지정\n",
    "    sgd_regressor.fit(X_train, y_train, coef_init = coef, intercept_init = intercept)"
   ]
  },
  {
   "cell_type": "code",
   "execution_count": 13,
   "metadata": {},
   "outputs": [
    {
     "data": {
      "image/png": "[encoded data removed]",
      "text/plain": [
       "<Figure size 432x288 with 1 Axes>"
      ]
     },
     "metadata": {
      "needs_background": "light"
     },
     "output_type": "display_data"
    }
   ],
   "source": [
    "import matplotlib.pyplot as plt\n",
    "\n",
    "plt.plot( range(len(rmse_val_score)), rmse_val_score, c = 'g', label = 'VAL')\n",
    "plt.plot( range(len(rmse_train_score)), rmse_train_score, c = 'r', label = 'TRAINING')\n",
    "plt.scatter( 99, rmse(y_test, sgd_regressor.predict(X_test)), s=1, label = 'TEST')\n",
    "plt.legend()\n",
    "plt.show()"
   ]
  },
  {
   "cell_type": "code",
   "execution_count": 14,
   "metadata": {},
   "outputs": [
    {
     "data": {
      "text/plain": [
       "array([194, 196, 199, 198, 195, 197, 191, 193, 192, 190, 188, 187, 189,\n",
       "       186, 184, 183, 181, 185, 182, 180, 179, 178, 176, 175, 177, 174,\n",
       "       172, 173, 171, 170, 168, 169, 167, 164, 166, 160, 158, 162, 165,\n",
       "       159, 163, 154, 161, 156, 155, 157, 153, 150, 151, 148, 147, 152,\n",
       "       145, 149, 146, 144, 142, 141, 140, 143, 139, 136, 138, 137, 134,\n",
       "       135, 133, 129, 130, 132, 131, 128, 127, 124, 125, 123, 126, 122,\n",
       "       118, 120, 121, 117, 116, 119, 115, 114, 113, 109, 112, 110, 108,\n",
       "       111, 107, 106, 104, 105, 103, 100, 102,  98,  99, 101,  94,  95,\n",
       "        97,  96,  92,  90,  93,  91,  88,  85,  87,  89,  84,  86,  82,\n",
       "        80,  83,  81,  79,  76,  77,  78,  75,  74,  73,  72,  71,  69,\n",
       "        70,  68,  67,  66,  65,  64,  63,  62,  60,  61,  58,  59,  57,\n",
       "        56,  55,  54,  53,  51,  49,  52,  50,  48,  47,  46,  45,  44,\n",
       "        43,  42,  40,  41,  39,  37,  38,  36,  34,  35,  33,  32,  31,\n",
       "        30,  29,  28,  27,  26,  25,  24,  22,  23,  21,  20,  19,  18,\n",
       "        17,  16,  15,  14,  12,  13,  11,   9,   8,  10,   7,   6,   5,\n",
       "         4,   3,   2,   1,   0])"
      ]
     },
     "execution_count": 14,
     "metadata": {},
     "output_type": "execute_result"
    }
   ],
   "source": [
    "np.argsort(rmse_val_score)"
   ]
  },
  {
   "cell_type": "code",
   "execution_count": 16,
   "metadata": {},
   "outputs": [
    {
     "data": {
      "text/plain": [
       "7.388283395211146"
      ]
     },
     "execution_count": 16,
     "metadata": {},
     "output_type": "execute_result"
    }
   ],
   "source": [
    "model_list[194].coef_\n",
    "rmse(y_test, model_list[194].predict(X_test))\n"
   ]
  },
  {
   "cell_type": "markdown",
   "metadata": {},
   "source": [
    "## ETC"
   ]
  },
  {
   "cell_type": "markdown",
   "metadata": {},
   "source": [
    "- RepeatedKFold : 중복이 포함된 K-Fold 생성\n",
    "- LeavePOut : 한번에 P개를 뽑음 (Not LOO for one data)\n",
    "- shuffleSplit : 독립적인(중복되는) data Sampling\n",
    "- <b style= 'color: green'>StratifiedKFold : Y값 비율에 따라 뽑음, 층화추출 ex) 암 환자 구분</b>\n",
    "- GroupKFold : 그룹별로 데이터 Sampling"
   ]
  }
 ],
 "metadata": {
  "interpreter": {
   "hash": "451282c7329e2a6a364ca3aa9d61cbc27edaeb5d17f404c45e9cca05e3b54b52"
  },
  "kernelspec": {
   "display_name": "Python 3.8.12 ('da')",
   "language": "python",
   "name": "python3"
  },
  "language_info": {
   "codemirror_mode": {
    "name": "ipython",
    "version": 3
   },
   "file_extension": ".py",
   "mimetype": "text/x-python",
   "name": "python",
   "nbconvert_exporter": "python",
   "pygments_lexer": "ipython3",
   "version": "3.8.12"
  },
  "orig_nbformat": 4
 },
 "nbformat": 4,
 "nbformat_minor": 2
}
