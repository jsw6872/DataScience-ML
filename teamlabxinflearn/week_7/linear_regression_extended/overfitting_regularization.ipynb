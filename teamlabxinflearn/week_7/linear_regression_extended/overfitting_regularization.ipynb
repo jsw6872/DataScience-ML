{
 "cells": [
  {
   "cell_type": "markdown",
   "metadata": {},
   "source": [
    "# overfitting"
   ]
  },
  {
   "cell_type": "markdown",
   "metadata": {},
   "source": [
    "> 설명력이 높다는 가정 하에 최대한 작은 weight로 설명하면 좋음"
   ]
  },
  {
   "cell_type": "markdown",
   "metadata": {},
   "source": [
    "![trade_off](../../img/bias_variance_tradeoff.png)"
   ]
  },
  {
   "cell_type": "markdown",
   "metadata": {},
   "source": [
    "## 극복법\n",
    "- 더 많은 데이터 활용\n",
    "- feature 개수 줄이기\n",
    "- 적절한 paramter 선정\n",
    "- regularization"
   ]
  },
  {
   "cell_type": "markdown",
   "metadata": {},
   "source": [
    "# regularization  \n",
    "( 데이터들의 Weight들을 최대한 0에 가깝게 만들기 )"
   ]
  },
  {
   "cell_type": "markdown",
   "metadata": {},
   "source": [
    "![regularization](../../img/regularization.png)"
   ]
  },
  {
   "cell_type": "markdown",
   "metadata": {},
   "source": [
    "> feature에 굉장히 큰 penalty를 주어 minimum cost가 되려면 결국 weight가 작아지게됨"
   ]
  },
  {
   "cell_type": "markdown",
   "metadata": {},
   "source": [
    "## L2 regularization (ridge)"
   ]
  },
  {
   "cell_type": "markdown",
   "metadata": {},
   "source": [
    "![l2](../../img/l2_regularizaiton.png)"
   ]
  },
  {
   "cell_type": "markdown",
   "metadata": {},
   "source": [
    "- $\\lambda$ : penalty항 (hypter parameter)\n",
    "- $\\theta$ : $\\lambda$ 가 커지면 얜 작아짐"
   ]
  },
  {
   "cell_type": "markdown",
   "metadata": {},
   "source": [
    "## L1 regularization (lasso regression)"
   ]
  },
  {
   "cell_type": "markdown",
   "metadata": {},
   "source": [
    "![l1](../../img/l1_regularization.png)"
   ]
  },
  {
   "cell_type": "markdown",
   "metadata": {},
   "source": [
    " ### L1 vs L2"
   ]
  },
  {
   "cell_type": "markdown",
   "metadata": {},
   "source": [
    "- L1\n",
    "  - unstable solution\n",
    "  - One or more solution\n",
    "  - Sparse Solution (어떤 weight 값은 0을 가질 수도 있음) 따라서 처음에 L1을 통해 feature selection을 하기도 함\n",
    "  - feature selection\n",
    "- L2\n",
    "  - stable solution\n",
    "  - only one solution\n",
    "  - Non-sparse solution"
   ]
  },
  {
   "cell_type": "markdown",
   "metadata": {},
   "source": [
    "# regularization with sklearn"
   ]
  },
  {
   "cell_type": "markdown",
   "metadata": {},
   "source": [
    "## Linear Regression with Normal equation"
   ]
  },
  {
   "cell_type": "code",
   "execution_count": 1,
   "metadata": {},
   "outputs": [],
   "source": [
    "%matplotlib inline\n",
    "\n",
    "import numpy as np\n",
    "import pandas as pd\n",
    "import matplotlib.pyplot as plt\n",
    "import warnings\n",
    "warnings.filterwarnings(action='ignore')"
   ]
  },
  {
   "cell_type": "code",
   "execution_count": 3,
   "metadata": {},
   "outputs": [],
   "source": [
    "from sklearn.datasets import load_boston\n",
    "boston = load_boston()"
   ]
  },
  {
   "cell_type": "code",
   "execution_count": 4,
   "metadata": {},
   "outputs": [
    {
     "name": "stdout",
     "output_type": "stream",
     "text": [
      ".. _boston_dataset:\n",
      "\n",
      "Boston house prices dataset\n",
      "---------------------------\n",
      "\n",
      "**Data Set Characteristics:**  \n",
      "\n",
      "    :Number of Instances: 506 \n",
      "\n",
      "    :Number of Attributes: 13 numeric/categorical predictive. Median Value (attribute 14) is usually the target.\n",
      "\n",
      "    :Attribute Information (in order):\n",
      "        - CRIM     per capita crime rate by town\n",
      "        - ZN       proportion of residential land zoned for lots over 25,000 sq.ft.\n",
      "        - INDUS    proportion of non-retail business acres per town\n",
      "        - CHAS     Charles River dummy variable (= 1 if tract bounds river; 0 otherwise)\n",
      "        - NOX      nitric oxides concentration (parts per 10 million)\n",
      "        - RM       average number of rooms per dwelling\n",
      "        - AGE      proportion of owner-occupied units built prior to 1940\n",
      "        - DIS      weighted distances to five Boston employment centres\n",
      "        - RAD      index of accessibility to radial highways\n",
      "        - TAX      full-value property-tax rate per $10,000\n",
      "        - PTRATIO  pupil-teacher ratio by town\n",
      "        - B        1000(Bk - 0.63)^2 where Bk is the proportion of black people by town\n",
      "        - LSTAT    % lower status of the population\n",
      "        - MEDV     Median value of owner-occupied homes in $1000's\n",
      "\n",
      "    :Missing Attribute Values: None\n",
      "\n",
      "    :Creator: Harrison, D. and Rubinfeld, D.L.\n",
      "\n",
      "This is a copy of UCI ML housing dataset.\n",
      "https://archive.ics.uci.edu/ml/machine-learning-databases/housing/\n",
      "\n",
      "\n",
      "This dataset was taken from the StatLib library which is maintained at Carnegie Mellon University.\n",
      "\n",
      "The Boston house-price data of Harrison, D. and Rubinfeld, D.L. 'Hedonic\n",
      "prices and the demand for clean air', J. Environ. Economics & Management,\n",
      "vol.5, 81-102, 1978.   Used in Belsley, Kuh & Welsch, 'Regression diagnostics\n",
      "...', Wiley, 1980.   N.B. Various transformations are used in the table on\n",
      "pages 244-261 of the latter.\n",
      "\n",
      "The Boston house-price data has been used in many machine learning papers that address regression\n",
      "problems.   \n",
      "     \n",
      ".. topic:: References\n",
      "\n",
      "   - Belsley, Kuh & Welsch, 'Regression diagnostics: Identifying Influential Data and Sources of Collinearity', Wiley, 1980. 244-261.\n",
      "   - Quinlan,R. (1993). Combining Instance-Based and Model-Based Learning. In Proceedings on the Tenth International Conference of Machine Learning, 236-243, University of Massachusetts, Amherst. Morgan Kaufmann.\n",
      "\n"
     ]
    }
   ],
   "source": [
    "print(boston['DESCR'])"
   ]
  },
  {
   "cell_type": "code",
   "execution_count": 6,
   "metadata": {},
   "outputs": [
    {
     "data": {
      "text/html": [
       "<div>\n",
       "<style scoped>\n",
       "    .dataframe tbody tr th:only-of-type {\n",
       "        vertical-align: middle;\n",
       "    }\n",
       "\n",
       "    .dataframe tbody tr th {\n",
       "        vertical-align: top;\n",
       "    }\n",
       "\n",
       "    .dataframe thead th {\n",
       "        text-align: right;\n",
       "    }\n",
       "</style>\n",
       "<table border=\"1\" class=\"dataframe\">\n",
       "  <thead>\n",
       "    <tr style=\"text-align: right;\">\n",
       "      <th></th>\n",
       "      <th>CRIM</th>\n",
       "      <th>ZN</th>\n",
       "      <th>INDUS</th>\n",
       "      <th>CHAS</th>\n",
       "      <th>NOX</th>\n",
       "      <th>RM</th>\n",
       "      <th>AGE</th>\n",
       "      <th>DIS</th>\n",
       "      <th>RAD</th>\n",
       "      <th>TAX</th>\n",
       "      <th>PTRATIO</th>\n",
       "      <th>B</th>\n",
       "      <th>LSTAT</th>\n",
       "    </tr>\n",
       "  </thead>\n",
       "  <tbody>\n",
       "    <tr>\n",
       "      <th>0</th>\n",
       "      <td>0.00632</td>\n",
       "      <td>18.0</td>\n",
       "      <td>2.31</td>\n",
       "      <td>0.0</td>\n",
       "      <td>0.538</td>\n",
       "      <td>6.575</td>\n",
       "      <td>65.2</td>\n",
       "      <td>4.0900</td>\n",
       "      <td>1.0</td>\n",
       "      <td>296.0</td>\n",
       "      <td>15.3</td>\n",
       "      <td>396.90</td>\n",
       "      <td>4.98</td>\n",
       "    </tr>\n",
       "    <tr>\n",
       "      <th>1</th>\n",
       "      <td>0.02731</td>\n",
       "      <td>0.0</td>\n",
       "      <td>7.07</td>\n",
       "      <td>0.0</td>\n",
       "      <td>0.469</td>\n",
       "      <td>6.421</td>\n",
       "      <td>78.9</td>\n",
       "      <td>4.9671</td>\n",
       "      <td>2.0</td>\n",
       "      <td>242.0</td>\n",
       "      <td>17.8</td>\n",
       "      <td>396.90</td>\n",
       "      <td>9.14</td>\n",
       "    </tr>\n",
       "    <tr>\n",
       "      <th>2</th>\n",
       "      <td>0.02729</td>\n",
       "      <td>0.0</td>\n",
       "      <td>7.07</td>\n",
       "      <td>0.0</td>\n",
       "      <td>0.469</td>\n",
       "      <td>7.185</td>\n",
       "      <td>61.1</td>\n",
       "      <td>4.9671</td>\n",
       "      <td>2.0</td>\n",
       "      <td>242.0</td>\n",
       "      <td>17.8</td>\n",
       "      <td>392.83</td>\n",
       "      <td>4.03</td>\n",
       "    </tr>\n",
       "    <tr>\n",
       "      <th>3</th>\n",
       "      <td>0.03237</td>\n",
       "      <td>0.0</td>\n",
       "      <td>2.18</td>\n",
       "      <td>0.0</td>\n",
       "      <td>0.458</td>\n",
       "      <td>6.998</td>\n",
       "      <td>45.8</td>\n",
       "      <td>6.0622</td>\n",
       "      <td>3.0</td>\n",
       "      <td>222.0</td>\n",
       "      <td>18.7</td>\n",
       "      <td>394.63</td>\n",
       "      <td>2.94</td>\n",
       "    </tr>\n",
       "    <tr>\n",
       "      <th>4</th>\n",
       "      <td>0.06905</td>\n",
       "      <td>0.0</td>\n",
       "      <td>2.18</td>\n",
       "      <td>0.0</td>\n",
       "      <td>0.458</td>\n",
       "      <td>7.147</td>\n",
       "      <td>54.2</td>\n",
       "      <td>6.0622</td>\n",
       "      <td>3.0</td>\n",
       "      <td>222.0</td>\n",
       "      <td>18.7</td>\n",
       "      <td>396.90</td>\n",
       "      <td>5.33</td>\n",
       "    </tr>\n",
       "  </tbody>\n",
       "</table>\n",
       "</div>"
      ],
      "text/plain": [
       "      CRIM    ZN  INDUS  CHAS    NOX     RM   AGE     DIS  RAD    TAX  \\\n",
       "0  0.00632  18.0   2.31   0.0  0.538  6.575  65.2  4.0900  1.0  296.0   \n",
       "1  0.02731   0.0   7.07   0.0  0.469  6.421  78.9  4.9671  2.0  242.0   \n",
       "2  0.02729   0.0   7.07   0.0  0.469  7.185  61.1  4.9671  2.0  242.0   \n",
       "3  0.03237   0.0   2.18   0.0  0.458  6.998  45.8  6.0622  3.0  222.0   \n",
       "4  0.06905   0.0   2.18   0.0  0.458  7.147  54.2  6.0622  3.0  222.0   \n",
       "\n",
       "   PTRATIO       B  LSTAT  \n",
       "0     15.3  396.90   4.98  \n",
       "1     17.8  396.90   9.14  \n",
       "2     17.8  392.83   4.03  \n",
       "3     18.7  394.63   2.94  \n",
       "4     18.7  396.90   5.33  "
      ]
     },
     "execution_count": 6,
     "metadata": {},
     "output_type": "execute_result"
    }
   ],
   "source": [
    "df = pd.DataFrame(boston.data, columns = boston.feature_names)\n",
    "df.head()"
   ]
  },
  {
   "cell_type": "code",
   "execution_count": 7,
   "metadata": {},
   "outputs": [
    {
     "data": {
      "text/plain": [
       "array([[6.3200e-03, 1.8000e+01, 2.3100e+00, 0.0000e+00, 5.3800e-01,\n",
       "        6.5750e+00, 6.5200e+01, 4.0900e+00, 1.0000e+00, 2.9600e+02,\n",
       "        1.5300e+01, 3.9690e+02, 4.9800e+00],\n",
       "       [2.7310e-02, 0.0000e+00, 7.0700e+00, 0.0000e+00, 4.6900e-01,\n",
       "        6.4210e+00, 7.8900e+01, 4.9671e+00, 2.0000e+00, 2.4200e+02,\n",
       "        1.7800e+01, 3.9690e+02, 9.1400e+00],\n",
       "       [2.7290e-02, 0.0000e+00, 7.0700e+00, 0.0000e+00, 4.6900e-01,\n",
       "        7.1850e+00, 6.1100e+01, 4.9671e+00, 2.0000e+00, 2.4200e+02,\n",
       "        1.7800e+01, 3.9283e+02, 4.0300e+00]])"
      ]
     },
     "execution_count": 7,
     "metadata": {},
     "output_type": "execute_result"
    }
   ],
   "source": [
    "X = df.values\n",
    "X[:3]"
   ]
  },
  {
   "cell_type": "code",
   "execution_count": 8,
   "metadata": {},
   "outputs": [
    {
     "data": {
      "text/plain": [
       "array([24. , 21.6, 34.7])"
      ]
     },
     "execution_count": 8,
     "metadata": {},
     "output_type": "execute_result"
    }
   ],
   "source": [
    "y = boston.target\n",
    "y[:3]"
   ]
  },
  {
   "cell_type": "code",
   "execution_count": 9,
   "metadata": {},
   "outputs": [],
   "source": [
    "from sklearn.model_selection import train_test_split\n",
    "\n",
    "X_train, X_test, y_train, y_test = train_test_split(X, y, test_size = 0.33, random_state= 42)"
   ]
  },
  {
   "cell_type": "code",
   "execution_count": 10,
   "metadata": {},
   "outputs": [],
   "source": [
    "from sklearn.linear_model import LinearRegression\n",
    "\n",
    "lr_ne = LinearRegression(fit_intercept = True)"
   ]
  },
  {
   "cell_type": "code",
   "execution_count": 11,
   "metadata": {},
   "outputs": [
    {
     "data": {
      "text/plain": [
       "LinearRegression()"
      ]
     },
     "execution_count": 11,
     "metadata": {},
     "output_type": "execute_result"
    }
   ],
   "source": [
    "lr_ne.fit(X_train, y_train)"
   ]
  },
  {
   "cell_type": "code",
   "execution_count": 12,
   "metadata": {},
   "outputs": [
    {
     "data": {
      "text/plain": [
       "(33.33497575563571,\n",
       " array([-1.28749718e-01,  3.78232228e-02,  5.82109233e-02,  3.23866812e+00,\n",
       "        -1.61698120e+01,  3.90205116e+00, -1.28507825e-02, -1.42222430e+00,\n",
       "         2.34853915e-01, -8.21331947e-03, -9.28722459e-01,  1.17695921e-02,\n",
       "        -5.47566338e-01]))"
      ]
     },
     "execution_count": 12,
     "metadata": {},
     "output_type": "execute_result"
    }
   ],
   "source": [
    "lr_ne.intercept_, lr_ne.coef_"
   ]
  },
  {
   "cell_type": "code",
   "execution_count": 13,
   "metadata": {},
   "outputs": [],
   "source": [
    "y_hat = lr_ne.predict(X_test)\n",
    "y_true = y_test"
   ]
  },
  {
   "cell_type": "code",
   "execution_count": 15,
   "metadata": {},
   "outputs": [
    {
     "data": {
      "text/plain": [
       "Text(0.5, 1.0, 'Prices vs Predicted prices : $Y_i$ vs $\\\\hat{Y}_i$')"
      ]
     },
     "execution_count": 15,
     "metadata": {},
     "output_type": "execute_result"
    },
    {
     "data": {
      "image/png": "[encoded data removed]",
      "text/plain": [
       "<Figure size 432x288 with 1 Axes>"
      ]
     },
     "metadata": {
      "needs_background": "light"
     },
     "output_type": "display_data"
    }
   ],
   "source": [
    "plt.scatter(y_true, y_hat)\n",
    "plt.xlabel('Prices: $Y_i$')\n",
    "plt.ylabel('Predicted prices : $\\hat{y}_i$')\n",
    "plt.title('Prices vs Predicted prices : $Y_i$ vs $\\hat{Y}_i$')"
   ]
  },
  {
   "cell_type": "markdown",
   "metadata": {},
   "source": [
    "## Linear Regression with SGD (linear regression에서는 잘 안 씀)\n",
    "> 역행렬이 존재하지 않을 수도 있기 때문"
   ]
  },
  {
   "cell_type": "markdown",
   "metadata": {},
   "source": [
    "- Squared Loss : 오차\n",
    "- Penalty : L2가 좋음\n",
    "- alpha : Regularization term()\n",
    "- L1 ratio : L1, L2 어느 정도 섞어서 사용할지\n",
    "- fit_intercept : 절편, 상수항\n",
    "- max_iter : epoch 몇 번 돌릴지\n",
    "- tol : 현재 loss - 이전의 loss, 차이가 어느 정도 나면 멈출지\n",
    "- shuffle : Data 섞을 지 말지\n",
    "- ex) SGD에서 shuffle = False  GD, full-batch가 된다\n",
    "- learning_rate : 학습 빈도수"
   ]
  },
  {
   "cell_type": "code",
   "execution_count": 31,
   "metadata": {},
   "outputs": [],
   "source": [
    "from sklearn.linear_model import SGDRegressor\n",
    "\n",
    "lr_SGD = SGDRegressor()"
   ]
  },
  {
   "cell_type": "markdown",
   "metadata": {},
   "source": [
    "X Scaling  \n",
    ": Scale을 해주지 않으면 Data가 발산 할 수 있기 때문에\n",
    "> 반드시 Scale 해줄것"
   ]
  },
  {
   "cell_type": "code",
   "execution_count": 33,
   "metadata": {},
   "outputs": [],
   "source": [
    "lr_SGD.fit(X_train, y_train)\n",
    "y_hat = lr_SGD.predict(X_test)\n",
    "\n",
    "y_true = y_test"
   ]
  },
  {
   "cell_type": "code",
   "execution_count": 34,
   "metadata": {},
   "outputs": [],
   "source": [
    "import sklearn"
   ]
  },
  {
   "cell_type": "code",
   "execution_count": 35,
   "metadata": {},
   "outputs": [
    {
     "data": {
      "text/plain": [
       "(335426962277868.3, 1.125112470229585e+29, 335426962277868.3)"
      ]
     },
     "execution_count": 35,
     "metadata": {},
     "output_type": "execute_result"
    }
   ],
   "source": [
    "mse = sklearn.metrics.mean_squared_error(y_hat, y_true)\n",
    "rmse = np.sqrt(np.sum((y_hat - y_true)**2) / len(y_true))\n",
    "rmse, mse, np.sqrt(mse)"
   ]
  },
  {
   "cell_type": "code",
   "execution_count": 36,
   "metadata": {},
   "outputs": [
    {
     "data": {
      "text/plain": [
       "Text(0.5, 1.0, 'Prices vs Predicted Prices : $Y_i$ vs $\\\\hat{Y}_i$')"
      ]
     },
     "execution_count": 36,
     "metadata": {},
     "output_type": "execute_result"
    },
    {
     "data": {
      "image/png": "[encoded data removed]",
      "text/plain": [
       "<Figure size 432x288 with 1 Axes>"
      ]
     },
     "metadata": {
      "needs_background": "light"
     },
     "output_type": "display_data"
    }
   ],
   "source": [
    "plt.scatter(y_true, y_hat, s= 10)\n",
    "plt.xlabel('Prices : $Y_i$')\n",
    "plt.ylabel('Predicted Prices : $\\hat{Y}_i$')\n",
    "plt.title('Prices vs Predicted Prices : $Y_i$ vs $\\hat{Y}_i$')"
   ]
  },
  {
   "cell_type": "markdown",
   "metadata": {},
   "source": [
    "> salce 데이터를 안 쓰면 발산하는 것을 알 수 있음"
   ]
  },
  {
   "cell_type": "code",
   "execution_count": 37,
   "metadata": {},
   "outputs": [
    {
     "data": {
      "text/plain": [
       "array([[-0.41978194,  0.28482986, -1.2879095 , -0.27259857, -0.14421743,\n",
       "         0.41367189, -0.12001342,  0.1402136 , -0.98284286, -0.66660821,\n",
       "        -1.45900038,  0.44105193, -1.0755623 ],\n",
       "       [-0.41733926, -0.48772236, -0.59338101, -0.27259857, -0.74026221,\n",
       "         0.19427445,  0.36716642,  0.55715988, -0.8678825 , -0.98732948,\n",
       "        -0.30309415,  0.44105193, -0.49243937],\n",
       "       [-0.41734159, -0.48772236, -0.59338101, -0.27259857, -0.74026221,\n",
       "         1.28271368, -0.26581176,  0.55715988, -0.8678825 , -0.98732948,\n",
       "        -0.30309415,  0.39642699, -1.2087274 ]])"
      ]
     },
     "execution_count": 37,
     "metadata": {},
     "output_type": "execute_result"
    }
   ],
   "source": [
    "from sklearn.preprocessing import StandardScaler\n",
    "\n",
    "std_scaler = StandardScaler()\n",
    "std_scaler.fit(X)\n",
    "X_scaled = std_scaler.transform(X)\n",
    "X_scaled[:3]"
   ]
  },
  {
   "cell_type": "code",
   "execution_count": 38,
   "metadata": {},
   "outputs": [],
   "source": [
    "from sklearn.model_selection import train_test_split\n",
    "\n",
    "X_train, X_test, y_train, y_test = train_test_split(X_scaled, y, test_size=0.33, random_state=42)"
   ]
  },
  {
   "cell_type": "code",
   "execution_count": 39,
   "metadata": {},
   "outputs": [
    {
     "data": {
      "text/plain": [
       "SGDRegressor()"
      ]
     },
     "execution_count": 39,
     "metadata": {},
     "output_type": "execute_result"
    }
   ],
   "source": [
    "lr_SGD.fit(X_train, y_train)"
   ]
  },
  {
   "cell_type": "code",
   "execution_count": 40,
   "metadata": {},
   "outputs": [],
   "source": [
    "y_hat = lr_SGD.predict(X_test)\n",
    "y_true = y_test"
   ]
  },
  {
   "cell_type": "code",
   "execution_count": 41,
   "metadata": {},
   "outputs": [
    {
     "data": {
      "text/plain": [
       "(4.627040710434889, 21.409505736021803, 4.627040710434889)"
      ]
     },
     "execution_count": 41,
     "metadata": {},
     "output_type": "execute_result"
    }
   ],
   "source": [
    "mse = sklearn.metrics.mean_squared_error(y_hat, y_true)\n",
    "rmse = np.sqrt(np.sum((y_hat - y_true)**2) / len(y_true))\n",
    "rmse, mse, np.sqrt(mse)"
   ]
  },
  {
   "cell_type": "code",
   "execution_count": 42,
   "metadata": {},
   "outputs": [
    {
     "data": {
      "text/plain": [
       "Text(0.5, 1.0, 'Prices vs Predicted Prices : $Y_i$ vs $\\\\hat{Y}_i$')"
      ]
     },
     "execution_count": 42,
     "metadata": {},
     "output_type": "execute_result"
    },
    {
     "data": {
      "image/png": "[encoded data removed]",
      "text/plain": [
       "<Figure size 432x288 with 1 Axes>"
      ]
     },
     "metadata": {
      "needs_background": "light"
     },
     "output_type": "display_data"
    }
   ],
   "source": [
    "plt.scatter(y_true, y_hat, s= 10)\n",
    "plt.xlabel('Prices : $Y_i$')\n",
    "plt.ylabel('Predicted Prices : $\\hat{Y}_i$')\n",
    "plt.title('Prices vs Predicted Prices : $Y_i$ vs $\\hat{Y}_i$')"
   ]
  },
  {
   "cell_type": "markdown",
   "metadata": {},
   "source": [
    "## LinearRegression vs SGDRegressor\n",
    "- LinearRegression\n",
    "  - feature수가 작을 때 효과적\n",
    "- SGDRegressor\n",
    "  - feature수가 많을 때 효과적"
   ]
  },
  {
   "cell_type": "markdown",
   "metadata": {},
   "source": [
    "## Linear Regression with Ridge & Lasso Regression"
   ]
  },
  {
   "cell_type": "markdown",
   "metadata": {},
   "source": [
    "- Normal Equation, SGD 둘 다 사용 가능"
   ]
  },
  {
   "cell_type": "code",
   "execution_count": 43,
   "metadata": {},
   "outputs": [],
   "source": [
    "from sklearn.linear_model import Lasso, Ridge"
   ]
  },
  {
   "cell_type": "code",
   "execution_count": 44,
   "metadata": {},
   "outputs": [],
   "source": [
    "X_train, X_test, y_train, y_test = train_test_split(X, y, test_size=0.33, random_state=42)"
   ]
  },
  {
   "cell_type": "code",
   "execution_count": 45,
   "metadata": {},
   "outputs": [
    {
     "data": {
      "text/plain": [
       "Ridge(alpha=0.5)"
      ]
     },
     "execution_count": 45,
     "metadata": {},
     "output_type": "execute_result"
    }
   ],
   "source": [
    "ridge = Ridge(fit_intercept=True, alpha = 0.5)\n",
    "ridge.fit(X_train, y_train)"
   ]
  },
  {
   "cell_type": "code",
   "execution_count": 46,
   "metadata": {},
   "outputs": [],
   "source": [
    "y_hat_ridge =ridge.predict(X_test)\n",
    "y_true_ridge = y_test "
   ]
  },
  {
   "cell_type": "code",
   "execution_count": 47,
   "metadata": {},
   "outputs": [
    {
     "data": {
      "text/plain": [
       "(4.579058484791169, 20.967776607137992)"
      ]
     },
     "execution_count": 47,
     "metadata": {},
     "output_type": "execute_result"
    }
   ],
   "source": [
    "mse = sklearn.metrics.mean_squared_error(y_hat_ridge, y_true_ridge)\n",
    "rmse = np.sqrt(np.sum( (y_hat_ridge - y_true_ridge) **2) / len(y_true_ridge))\n",
    "rmse, mse"
   ]
  },
  {
   "cell_type": "code",
   "execution_count": 48,
   "metadata": {},
   "outputs": [
    {
     "data": {
      "text/plain": [
       "Text(0.5, 1.0, 'Prices vs Predicted Prices : $Y_i$ vs $\\\\hat{Y}_i$')"
      ]
     },
     "execution_count": 48,
     "metadata": {},
     "output_type": "execute_result"
    },
    {
     "data": {
      "image/png": "[encoded data removed]",
      "text/plain": [
       "<Figure size 432x288 with 1 Axes>"
      ]
     },
     "metadata": {
      "needs_background": "light"
     },
     "output_type": "display_data"
    }
   ],
   "source": [
    "plt.scatter(y_true_ridge, y_hat_ridge, s = 10)\n",
    "plt.xlabel('Prices: $Y_i$')\n",
    "plt.ylabel('Predicted Prices : $\\hat{Y}_i$')\n",
    "plt.title('Prices vs Predicted Prices : $Y_i$ vs $\\hat{Y}_i$')"
   ]
  },
  {
   "cell_type": "code",
   "execution_count": 49,
   "metadata": {},
   "outputs": [
    {
     "data": {
      "text/plain": [
       "Lasso(alpha=0.5)"
      ]
     },
     "execution_count": 49,
     "metadata": {},
     "output_type": "execute_result"
    }
   ],
   "source": [
    "lasso = Lasso(fit_intercept=True, alpha = 0.5)\n",
    "lasso.fit(X_train, y_train)"
   ]
  },
  {
   "cell_type": "code",
   "execution_count": 50,
   "metadata": {},
   "outputs": [],
   "source": [
    "y_hat_lasso =lasso.predict(X_test)\n",
    "y_true_lasso = y_test "
   ]
  },
  {
   "cell_type": "code",
   "execution_count": 51,
   "metadata": {},
   "outputs": [
    {
     "data": {
      "text/plain": [
       "(4.778283666231916, 22.83199479497872)"
      ]
     },
     "execution_count": 51,
     "metadata": {},
     "output_type": "execute_result"
    }
   ],
   "source": [
    "mse = sklearn.metrics.mean_squared_error(y_hat_lasso, y_true_lasso)\n",
    "rmse = np.sqrt(np.sum( (y_hat_lasso - y_true_lasso) **2) / len(y_true_lasso))\n",
    "rmse, mse"
   ]
  },
  {
   "cell_type": "code",
   "execution_count": 52,
   "metadata": {},
   "outputs": [
    {
     "data": {
      "text/plain": [
       "Text(0.5, 1.0, 'Prices vs Predicted Prices : $Y_i$ vs $\\\\hat{Y}_i$')"
      ]
     },
     "execution_count": 52,
     "metadata": {},
     "output_type": "execute_result"
    },
    {
     "data": {
      "image/png": "[encoded data removed]",
      "text/plain": [
       "<Figure size 432x288 with 1 Axes>"
      ]
     },
     "metadata": {
      "needs_background": "light"
     },
     "output_type": "display_data"
    }
   ],
   "source": [
    "plt.scatter(y_hat_lasso, y_true_lasso, s = 10)\n",
    "plt.xlabel('Prices: $Y_i$')\n",
    "plt.ylabel('Predicted Prices : $\\hat{Y}_i$')\n",
    "plt.title('Prices vs Predicted Prices : $Y_i$ vs $\\hat{Y}_i$')"
   ]
  },
  {
   "cell_type": "markdown",
   "metadata": {},
   "source": [
    "ref  \n",
    "[ridge_lasso](https://brunch.co.kr/@itschloe1/11)"
   ]
  },
  {
   "cell_type": "markdown",
   "metadata": {},
   "source": [
    "$\\lambda$ 변화시켜보기"
   ]
  },
  {
   "cell_type": "code",
   "execution_count": 53,
   "metadata": {},
   "outputs": [
    {
     "name": "stdout",
     "output_type": "stream",
     "text": [
      "Ridge Regression\n",
      "alpha\t RMSE_train\t RMSE_10cv\n",
      "\n",
      "0.010\t 4.5529\t\t 5.8757\n",
      "0.418\t 4.5749\t\t 5.8419\n",
      "0.826\t 4.5935\t\t 5.8270\n",
      "1.234\t 4.6074\t\t 5.8186\n",
      "1.642\t 4.6180\t\t 5.8126\n",
      "2.050\t 4.6262\t\t 5.8078\n",
      "2.458\t 4.6327\t\t 5.8034\n",
      "2.866\t 4.6379\t\t 5.7993\n",
      "3.274\t 4.6422\t\t 5.7953\n",
      "3.682\t 4.6458\t\t 5.7912\n",
      "4.090\t 4.6489\t\t 5.7873\n",
      "4.498\t 4.6515\t\t 5.7833\n",
      "4.906\t 4.6538\t\t 5.7793\n",
      "5.313\t 4.6558\t\t 5.7753\n",
      "5.721\t 4.6576\t\t 5.7714\n",
      "6.129\t 4.6593\t\t 5.7674\n",
      "6.537\t 4.6607\t\t 5.7635\n",
      "6.945\t 4.6621\t\t 5.7596\n",
      "7.353\t 4.6633\t\t 5.7557\n",
      "7.761\t 4.6644\t\t 5.7518\n",
      "8.169\t 4.6655\t\t 5.7479\n",
      "8.577\t 4.6665\t\t 5.7441\n",
      "8.985\t 4.6674\t\t 5.7404\n",
      "9.393\t 4.6683\t\t 5.7366\n",
      "9.801\t 4.6691\t\t 5.7329\n",
      "10.209\t 4.6699\t\t 5.7292\n",
      "10.617\t 4.6707\t\t 5.7256\n",
      "11.025\t 4.6714\t\t 5.7220\n",
      "11.433\t 4.6722\t\t 5.7184\n",
      "11.841\t 4.6729\t\t 5.7149\n",
      "12.249\t 4.6735\t\t 5.7114\n",
      "12.657\t 4.6742\t\t 5.7079\n",
      "13.065\t 4.6748\t\t 5.7045\n",
      "13.473\t 4.6755\t\t 5.7011\n",
      "13.881\t 4.6761\t\t 5.6978\n",
      "14.289\t 4.6767\t\t 5.6945\n",
      "14.697\t 4.6773\t\t 5.6912\n",
      "15.104\t 4.6779\t\t 5.6880\n",
      "15.512\t 4.6785\t\t 5.6848\n",
      "15.920\t 4.6791\t\t 5.6816\n",
      "16.328\t 4.6797\t\t 5.6785\n",
      "16.736\t 4.6803\t\t 5.6754\n",
      "17.144\t 4.6809\t\t 5.6724\n",
      "17.552\t 4.6814\t\t 5.6694\n",
      "17.960\t 4.6820\t\t 5.6664\n",
      "18.368\t 4.6826\t\t 5.6635\n",
      "18.776\t 4.6831\t\t 5.6606\n",
      "19.184\t 4.6837\t\t 5.6577\n",
      "19.592\t 4.6843\t\t 5.6549\n",
      "20.000\t 4.6848\t\t 5.6521\n"
     ]
    }
   ],
   "source": [
    "from sklearn.model_selection import KFold\n",
    "\n",
    "print('Ridge Regression')\n",
    "print('alpha\\t RMSE_train\\t RMSE_10cv\\n')\n",
    "\n",
    "# 0.01 ~ 20까지 50개로 나눠서 \n",
    "alpha = np.linspace(0.01, 20, 50)\n",
    "\n",
    "t_rmse = np.array([])\n",
    "cv_rmse = np.array([])\n",
    "\n",
    "for a in alpha : \n",
    "    ridge = Ridge(fit_intercept=True, alpha = a)\n",
    "\n",
    "    #Computing the RMSE on training data\n",
    "    ridge.fit(X_train, y_train)\n",
    "    p = ridge.predict(X_test)\n",
    "    err = p - y_test\n",
    "    # err^2\n",
    "    total_error = np.dot(err, err)\n",
    "    rmse_train = np.sqrt(total_error / len(p))\n",
    "\n",
    "    # computing RMSE using 10-fold cross validation\n",
    "    kf = KFold(10)\n",
    "    xval_err = 0\n",
    "    \n",
    "    for train, test in kf.split(X):\n",
    "        ridge.fit(X[train], y[train])\n",
    "        p = ridge.predict(X[test])\n",
    "        err = p - y[test]\n",
    "        xval_err += np.dot(err,err)\n",
    "\n",
    "    rmse_10cv = np.sqrt(xval_err / len(X))\n",
    "\n",
    "    t_rmse = np.append(t_rmse, [rmse_train])\n",
    "    cv_rmse = np.append(cv_rmse, [rmse_10cv])\n",
    "    print('{:.3f}\\t {:.4f}\\t\\t {:.4f}'.format(a, rmse_train, rmse_10cv))"
   ]
  },
  {
   "cell_type": "code",
   "execution_count": 54,
   "metadata": {},
   "outputs": [
    {
     "data": {
      "image/png": "[encoded data removed]",
      "text/plain": [
       "<Figure size 432x288 with 1 Axes>"
      ]
     },
     "metadata": {
      "needs_background": "light"
     },
     "output_type": "display_data"
    }
   ],
   "source": [
    "plt.plot(alpha, t_rmse, label = 'RMSE-Train')\n",
    "plt.plot(alpha, cv_rmse, label = 'RMSE_XVal')\n",
    "plt.legend( ('RMSE-Train', 'RMSE_XVal') )\n",
    "plt.ylabel('RMSE')\n",
    "plt.xlabel('Alpha')\n",
    "plt.show()"
   ]
  },
  {
   "cell_type": "markdown",
   "metadata": {},
   "source": [
    "> $\\lambda$ 가 크면 그만큼 제약이 생겨서 overfitting이 방지 되므로 기존 트레인셋은 커질수록 RMSE가 커지고 Test는 낮아지는 것을 확인 가능함"
   ]
  },
  {
   "cell_type": "markdown",
   "metadata": {},
   "source": [
    "> SGD 사용시 Scaling 필수!!"
   ]
  }
 ],
 "metadata": {
  "interpreter": {
   "hash": "451282c7329e2a6a364ca3aa9d61cbc27edaeb5d17f404c45e9cca05e3b54b52"
  },
  "kernelspec": {
   "display_name": "Python 3.8.12 ('da')",
   "language": "python",
   "name": "python3"
  },
  "language_info": {
   "codemirror_mode": {
    "name": "ipython",
    "version": 3
   },
   "file_extension": ".py",
   "mimetype": "text/x-python",
   "name": "python",
   "nbconvert_exporter": "python",
   "pygments_lexer": "ipython3",
   "version": "3.8.12"
  },
  "orig_nbformat": 4
 },
 "nbformat": 4,
 "nbformat_minor": 2
}
